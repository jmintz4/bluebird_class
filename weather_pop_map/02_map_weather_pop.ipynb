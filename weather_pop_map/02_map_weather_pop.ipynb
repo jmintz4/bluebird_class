{
  "nbformat": 4,
  "nbformat_minor": 0,
  "metadata": {
    "colab": {
      "name": "02_map_weather_pop.ipynb",
      "provenance": [],
      "machine_shape": "hm",
      "authorship_tag": "ABX9TyOC8sMmRMMPD5N/UCaJXjr0"
    },
    "kernelspec": {
      "name": "python3",
      "display_name": "Python 3"
    },
    "language_info": {
      "name": "python"
    },
    "accelerator": "GPU"
  },
  "cells": [
    {
      "cell_type": "markdown",
      "source": [
        "##Libraries"
      ],
      "metadata": {
        "id": "_DtwbHFChjao"
      }
    },
    {
      "cell_type": "code",
      "execution_count": null,
      "metadata": {
        "colab": {
          "base_uri": "https://localhost:8080/"
        },
        "id": "Tu-t0UzjPpY6",
        "outputId": "5334b90a-21a5-4243-d30f-702fea749aae"
      },
      "outputs": [
        {
          "output_type": "stream",
          "name": "stdout",
          "text": [
            "Mounted at drive\n"
          ]
        }
      ],
      "source": [
        "from google.colab import drive\n",
        "drive.mount('drive')"
      ]
    },
    {
      "cell_type": "code",
      "source": [
        "import pandas as pd\n",
        "import numpy as np\n",
        "from math import radians, cos, sin, asin, sqrt"
      ],
      "metadata": {
        "id": "nkOQG3FUQ109"
      },
      "execution_count": null,
      "outputs": []
    },
    {
      "cell_type": "code",
      "execution_count": null,
      "metadata": {
        "colab": {
          "base_uri": "https://localhost:8080/"
        },
        "id": "L53sDPmpKYda",
        "outputId": "320ada09-d0d5-423b-ec6b-504a2c7b5a4f"
      },
      "outputs": [
        {
          "output_type": "stream",
          "name": "stdout",
          "text": [
            "Found GPU at: /device:GPU:0\n",
            "TensorFlow version: 2.8.0\n"
          ]
        }
      ],
      "source": [
        "import tensorflow\n",
        "device_name = tensorflow.test.gpu_device_name()\n",
        "if device_name != '/device:GPU:0':\n",
        "  raise SystemError('GPU device not found')\n",
        "print('Found GPU at: {}'.format(device_name))\n",
        "print(\"TensorFlow version:\", tensorflow.__version__)"
      ]
    },
    {
      "cell_type": "code",
      "execution_count": null,
      "metadata": {
        "colab": {
          "base_uri": "https://localhost:8080/"
        },
        "id": "wUESBUuITZI0",
        "outputId": "0c403e58-adf5-4c69-8a3d-337e4f8acea2"
      },
      "outputs": [
        {
          "output_type": "stream",
          "name": "stdout",
          "text": [
            "Thu Apr 14 02:45:10 2022       \n",
            "+-----------------------------------------------------------------------------+\n",
            "| NVIDIA-SMI 460.32.03    Driver Version: 460.32.03    CUDA Version: 11.2     |\n",
            "|-------------------------------+----------------------+----------------------+\n",
            "| GPU  Name        Persistence-M| Bus-Id        Disp.A | Volatile Uncorr. ECC |\n",
            "| Fan  Temp  Perf  Pwr:Usage/Cap|         Memory-Usage | GPU-Util  Compute M. |\n",
            "|                               |                      |               MIG M. |\n",
            "|===============================+======================+======================|\n",
            "|   0  Tesla P100-PCIE...  Off  | 00000000:00:04.0 Off |                    0 |\n",
            "| N/A   33C    P0    32W / 250W |    375MiB / 16280MiB |      2%      Default |\n",
            "|                               |                      |                  N/A |\n",
            "+-------------------------------+----------------------+----------------------+\n",
            "                                                                               \n",
            "+-----------------------------------------------------------------------------+\n",
            "| Processes:                                                                  |\n",
            "|  GPU   GI   CI        PID   Type   Process name                  GPU Memory |\n",
            "|        ID   ID                                                   Usage      |\n",
            "|=============================================================================|\n",
            "+-----------------------------------------------------------------------------+\n"
          ]
        }
      ],
      "source": [
        "gpu_info = !nvidia-smi\n",
        "gpu_info = '\\n'.join(gpu_info)\n",
        "if gpu_info.find('failed') >= 0:\n",
        "  print('Not connected to a GPU')\n",
        "else:\n",
        "  print(gpu_info)"
      ]
    },
    {
      "cell_type": "code",
      "execution_count": null,
      "metadata": {
        "colab": {
          "base_uri": "https://localhost:8080/"
        },
        "id": "3NqsALumUJzc",
        "outputId": "c9659fce-2f0f-46d9-c59f-ad233630bac2"
      },
      "outputs": [
        {
          "output_type": "stream",
          "name": "stdout",
          "text": [
            "Your runtime has 54.8 gigabytes of available RAM\n",
            "\n",
            "You are using a high-RAM runtime!\n"
          ]
        }
      ],
      "source": [
        "from psutil import virtual_memory\n",
        "ram_gb = virtual_memory().total / 1e9\n",
        "print('Your runtime has {:.1f} gigabytes of available RAM\\n'.format(ram_gb))\n",
        "\n",
        "if ram_gb < 20:\n",
        "  print('Not using a high-RAM runtime')\n",
        "else:\n",
        "  print('You are using a high-RAM runtime!')"
      ]
    },
    {
      "cell_type": "markdown",
      "source": [
        "## Functions"
      ],
      "metadata": {
        "id": "8KFhPW50MmjJ"
      }
    },
    {
      "cell_type": "code",
      "source": [
        "# Create df of null_names, null_counts, null_proportion, and null_dtypes\n",
        "def null_summary(df):\n",
        "  var_null_list = df.columns[df.isna().any()]\n",
        "  var_null_names = df[var_null_list].dtypes.index\n",
        "  var_null_counts = df[var_null_list].isna().sum()\n",
        "  var_null_proportion = df[var_null_list].isna().sum()/df[var_null_list].isna().count()\n",
        "  var_null_dtypes = df[var_null_list].dtypes\n",
        "  var_null_df = pd.DataFrame({'null_names' : var_null_names, 'null_counts' : var_null_counts, 'null_proportion' : var_null_proportion, 'null_dtypes' : var_null_dtypes})\n",
        "  \n",
        "  return var_null_df.reset_index(drop=True)"
      ],
      "metadata": {
        "id": "PuMn5Z5mMsHw"
      },
      "execution_count": null,
      "outputs": []
    },
    {
      "cell_type": "markdown",
      "source": [
        "##Map"
      ],
      "metadata": {
        "id": "1Xpk0molhodP"
      }
    },
    {
      "cell_type": "code",
      "source": [
        "fp = '/content/drive/MyDrive/Modules/Module_30_Capstone_4_Final_project/weather_data/'"
      ],
      "metadata": {
        "id": "ZwOPQsstBv7Q"
      },
      "execution_count": null,
      "outputs": []
    },
    {
      "cell_type": "code",
      "source": [
        "pfwc = pd.read_csv(fp + \"pfwc.csv\")\n",
        "pfwc = pfwc.drop(columns = 'Unnamed: 0')"
      ],
      "metadata": {
        "id": "GL1idYvGhtnX"
      },
      "execution_count": null,
      "outputs": []
    },
    {
      "cell_type": "code",
      "source": [
        "locs = pd.read_csv(fp + \"locs.csv\")\n",
        "locs = locs.rename(columns = {'Unnamed: 0':'id'})"
      ],
      "metadata": {
        "id": "jB_sgN0fQ1PA"
      },
      "execution_count": null,
      "outputs": []
    },
    {
      "cell_type": "code",
      "source": [
        "# Use tmin to do the location mapping\n",
        "tmin = pd.read_csv(fp + \"tmin.csv\")\n",
        "mplocs = tmin.groupby(['latitude', 'longitude']).count().reset_index()[['latitude', 'longitude']]\n",
        "mplocs['id'] = np.arange(0, mplocs.shape[0])"
      ],
      "metadata": {
        "id": "cqDT5HSiRF5N"
      },
      "execution_count": null,
      "outputs": []
    },
    {
      "cell_type": "code",
      "source": [
        "mplocs.to_csv(fp + \"tmin_locs.csv\")"
      ],
      "metadata": {
        "id": "UpLP9wU5ZExr"
      },
      "execution_count": null,
      "outputs": []
    },
    {
      "cell_type": "code",
      "source": [
        "def quarters(df):\n",
        "\n",
        "    minlat = df['latitude'].min()\n",
        "    maxlat = df['latitude'].max()\n",
        "    midlat = (maxlat + minlat)/2\n",
        "\n",
        "    minlon = df['longitude'].min()\n",
        "    maxlon = df['longitude'].max()\n",
        "    midlon = (maxlon + minlon)/2\n",
        "\n",
        "    q1 = df[(df['latitude'] > midlat) & (df['latitude'] <= maxlat) & (df['longitude'] >= minlon) & (df['longitude'] < midlon)]\n",
        "    q2 = df[(df['latitude'] > midlat) & (df['latitude'] <= maxlat) & (df['longitude'] >= midlon) & (df['longitude'] <= maxlon)]\n",
        "\n",
        "    q3 = df[(df['latitude'] >= minlat) & (df['latitude'] <= midlat) & (df['longitude'] >= minlon) & (df['longitude'] < midlon)]\n",
        "    q4 = df[(df['latitude'] >= minlat) & (df['latitude'] <= midlat) & (df['longitude'] >= midlon) & (df['longitude'] <= maxlon)]\n",
        "\n",
        "    return [q1, q2, q3, q4]"
      ],
      "metadata": {
        "id": "d52GTkx7sn5B"
      },
      "execution_count": null,
      "outputs": []
    },
    {
      "cell_type": "code",
      "source": [
        "locsl = quarters(locs)\n",
        "mplocsl = quarters(mplocs)"
      ],
      "metadata": {
        "id": "nIK85m7M707t"
      },
      "execution_count": null,
      "outputs": []
    },
    {
      "cell_type": "code",
      "source": [
        "def dist(lat1, long1, lat2, long2):\n",
        "\n",
        "    # Convert decimal degrees to radians \n",
        "    lat1, long1, lat2, long2 = map(radians, [lat1, long1, lat2, long2])\n",
        "    # Haversine formula \n",
        "    dlon = long2 - long1 \n",
        "    dlat = lat2 - lat1 \n",
        "    a = sin(dlat/2)**2 + cos(lat1) * cos(lat2) * sin(dlon/2)**2\n",
        "    c = 2 * asin(sqrt(a)) \n",
        "    # Radius of earth in kilometers is 6371\n",
        "    km = 6371* c\n",
        "    return km"
      ],
      "metadata": {
        "id": "en9psk-4SFL7"
      },
      "execution_count": null,
      "outputs": []
    },
    {
      "cell_type": "code",
      "source": [
        "def find_nearest(dfm, lat, long):\n",
        "    distances = dfm.apply(lambda row: dist(lat, long, row['latitude'], row['longitude']), axis=1)\n",
        "    return dfm.loc[distances.idxmin(), 'id']"
      ],
      "metadata": {
        "id": "N9v92AeOSOSj"
      },
      "execution_count": null,
      "outputs": []
    },
    {
      "cell_type": "code",
      "source": [
        "for idx, jj in enumerate(locsl):\n",
        "    print(idx)\n",
        "    locsl[idx]['id2'] = locsl[idx].apply(lambda row: find_nearest(mplocsl[idx], row['latitude'], row['longitude']), axis=1)\n",
        "\n",
        "newlocs = pd.concat(locsl, ignore_index=True)"
      ],
      "metadata": {
        "id": "0xiebGxBLjHG",
        "colab": {
          "base_uri": "https://localhost:8080/"
        },
        "outputId": "679d9272-ae7a-4b91-81d5-bbd7590d8d8e"
      },
      "execution_count": null,
      "outputs": [
        {
          "output_type": "stream",
          "name": "stdout",
          "text": [
            "0\n"
          ]
        },
        {
          "output_type": "stream",
          "name": "stderr",
          "text": [
            "/usr/local/lib/python3.7/dist-packages/ipykernel_launcher.py:3: SettingWithCopyWarning: \n",
            "A value is trying to be set on a copy of a slice from a DataFrame.\n",
            "Try using .loc[row_indexer,col_indexer] = value instead\n",
            "\n",
            "See the caveats in the documentation: https://pandas.pydata.org/pandas-docs/stable/user_guide/indexing.html#returning-a-view-versus-a-copy\n",
            "  This is separate from the ipykernel package so we can avoid doing imports until\n"
          ]
        },
        {
          "output_type": "stream",
          "name": "stdout",
          "text": [
            "1\n",
            "2\n",
            "3\n"
          ]
        }
      ]
    },
    {
      "cell_type": "code",
      "source": [
        "newlocs.to_csv(fp + \"newlocs.csv\")"
      ],
      "metadata": {
        "id": "ZuRHRagNW85i"
      },
      "execution_count": null,
      "outputs": []
    },
    {
      "cell_type": "code",
      "source": [
        "mplocs = pd.read_csv(fp + \"tmin_locs.csv\")\n",
        "newlocs = pd.read_csv(fp + \"newlocs.csv\")"
      ],
      "metadata": {
        "id": "zqIb1ZZCXbY4"
      },
      "execution_count": null,
      "outputs": []
    },
    {
      "cell_type": "code",
      "source": [
        "null_summary(newlocs)"
      ],
      "metadata": {
        "id": "CBsz1E_RRmSb",
        "colab": {
          "base_uri": "https://localhost:8080/",
          "height": 50
        },
        "outputId": "4ec5a0bf-7f53-49e2-e5b1-f84374b9438c"
      },
      "execution_count": null,
      "outputs": [
        {
          "output_type": "execute_result",
          "data": {
            "text/plain": [
              "Empty DataFrame\n",
              "Columns: [null_names, null_counts, null_proportion, null_dtypes]\n",
              "Index: []"
            ],
            "text/html": [
              "\n",
              "  <div id=\"df-04670b91-47a7-437c-ac52-8062e86e05b6\">\n",
              "    <div class=\"colab-df-container\">\n",
              "      <div>\n",
              "<style scoped>\n",
              "    .dataframe tbody tr th:only-of-type {\n",
              "        vertical-align: middle;\n",
              "    }\n",
              "\n",
              "    .dataframe tbody tr th {\n",
              "        vertical-align: top;\n",
              "    }\n",
              "\n",
              "    .dataframe thead th {\n",
              "        text-align: right;\n",
              "    }\n",
              "</style>\n",
              "<table border=\"1\" class=\"dataframe\">\n",
              "  <thead>\n",
              "    <tr style=\"text-align: right;\">\n",
              "      <th></th>\n",
              "      <th>null_names</th>\n",
              "      <th>null_counts</th>\n",
              "      <th>null_proportion</th>\n",
              "      <th>null_dtypes</th>\n",
              "    </tr>\n",
              "  </thead>\n",
              "  <tbody>\n",
              "  </tbody>\n",
              "</table>\n",
              "</div>\n",
              "      <button class=\"colab-df-convert\" onclick=\"convertToInteractive('df-04670b91-47a7-437c-ac52-8062e86e05b6')\"\n",
              "              title=\"Convert this dataframe to an interactive table.\"\n",
              "              style=\"display:none;\">\n",
              "        \n",
              "  <svg xmlns=\"http://www.w3.org/2000/svg\" height=\"24px\"viewBox=\"0 0 24 24\"\n",
              "       width=\"24px\">\n",
              "    <path d=\"M0 0h24v24H0V0z\" fill=\"none\"/>\n",
              "    <path d=\"M18.56 5.44l.94 2.06.94-2.06 2.06-.94-2.06-.94-.94-2.06-.94 2.06-2.06.94zm-11 1L8.5 8.5l.94-2.06 2.06-.94-2.06-.94L8.5 2.5l-.94 2.06-2.06.94zm10 10l.94 2.06.94-2.06 2.06-.94-2.06-.94-.94-2.06-.94 2.06-2.06.94z\"/><path d=\"M17.41 7.96l-1.37-1.37c-.4-.4-.92-.59-1.43-.59-.52 0-1.04.2-1.43.59L10.3 9.45l-7.72 7.72c-.78.78-.78 2.05 0 2.83L4 21.41c.39.39.9.59 1.41.59.51 0 1.02-.2 1.41-.59l7.78-7.78 2.81-2.81c.8-.78.8-2.07 0-2.86zM5.41 20L4 18.59l7.72-7.72 1.47 1.35L5.41 20z\"/>\n",
              "  </svg>\n",
              "      </button>\n",
              "      \n",
              "  <style>\n",
              "    .colab-df-container {\n",
              "      display:flex;\n",
              "      flex-wrap:wrap;\n",
              "      gap: 12px;\n",
              "    }\n",
              "\n",
              "    .colab-df-convert {\n",
              "      background-color: #E8F0FE;\n",
              "      border: none;\n",
              "      border-radius: 50%;\n",
              "      cursor: pointer;\n",
              "      display: none;\n",
              "      fill: #1967D2;\n",
              "      height: 32px;\n",
              "      padding: 0 0 0 0;\n",
              "      width: 32px;\n",
              "    }\n",
              "\n",
              "    .colab-df-convert:hover {\n",
              "      background-color: #E2EBFA;\n",
              "      box-shadow: 0px 1px 2px rgba(60, 64, 67, 0.3), 0px 1px 3px 1px rgba(60, 64, 67, 0.15);\n",
              "      fill: #174EA6;\n",
              "    }\n",
              "\n",
              "    [theme=dark] .colab-df-convert {\n",
              "      background-color: #3B4455;\n",
              "      fill: #D2E3FC;\n",
              "    }\n",
              "\n",
              "    [theme=dark] .colab-df-convert:hover {\n",
              "      background-color: #434B5C;\n",
              "      box-shadow: 0px 1px 3px 1px rgba(0, 0, 0, 0.15);\n",
              "      filter: drop-shadow(0px 1px 2px rgba(0, 0, 0, 0.3));\n",
              "      fill: #FFFFFF;\n",
              "    }\n",
              "  </style>\n",
              "\n",
              "      <script>\n",
              "        const buttonEl =\n",
              "          document.querySelector('#df-04670b91-47a7-437c-ac52-8062e86e05b6 button.colab-df-convert');\n",
              "        buttonEl.style.display =\n",
              "          google.colab.kernel.accessAllowed ? 'block' : 'none';\n",
              "\n",
              "        async function convertToInteractive(key) {\n",
              "          const element = document.querySelector('#df-04670b91-47a7-437c-ac52-8062e86e05b6');\n",
              "          const dataTable =\n",
              "            await google.colab.kernel.invokeFunction('convertToInteractive',\n",
              "                                                     [key], {});\n",
              "          if (!dataTable) return;\n",
              "\n",
              "          const docLinkHtml = 'Like what you see? Visit the ' +\n",
              "            '<a target=\"_blank\" href=https://colab.research.google.com/notebooks/data_table.ipynb>data table notebook</a>'\n",
              "            + ' to learn more about interactive tables.';\n",
              "          element.innerHTML = '';\n",
              "          dataTable['output_type'] = 'display_data';\n",
              "          await google.colab.output.renderOutput(dataTable, element);\n",
              "          const docLink = document.createElement('div');\n",
              "          docLink.innerHTML = docLinkHtml;\n",
              "          element.appendChild(docLink);\n",
              "        }\n",
              "      </script>\n",
              "    </div>\n",
              "  </div>\n",
              "  "
            ]
          },
          "metadata": {},
          "execution_count": 19
        }
      ]
    },
    {
      "cell_type": "markdown",
      "source": [
        "##Merge the mapped locations into the pfw df"
      ],
      "metadata": {
        "id": "lF2hInIhNEs1"
      }
    },
    {
      "cell_type": "code",
      "source": [
        "mplocs = mplocs.rename(columns={'id': 'id2'})\n",
        "mplocs = mplocs.rename(columns={'latitude': 'newlat'})\n",
        "mplocs = mplocs.rename(columns={'longitude': 'newlon'})"
      ],
      "metadata": {
        "id": "CVqkaZp6cFLD"
      },
      "execution_count": null,
      "outputs": []
    },
    {
      "cell_type": "code",
      "source": [
        "wthr = newlocs.merge(mplocs, how='left', on=['id2'])"
      ],
      "metadata": {
        "id": "w9lvZCuOb740"
      },
      "execution_count": null,
      "outputs": []
    },
    {
      "cell_type": "code",
      "source": [
        "pfwd = pfwc.merge(wthr[['latitude', 'longitude', 'newlat', 'newlon']], how='left', on=['latitude', 'longitude'])"
      ],
      "metadata": {
        "id": "poBfzD29oENL"
      },
      "execution_count": null,
      "outputs": []
    },
    {
      "cell_type": "code",
      "source": [
        "# Set the years to do the next merges in chunks by year\n",
        "ystart = 2015\n",
        "yend = 2021\n",
        "years = list(np.arange(ystart, yend+1, 1))\n",
        "years"
      ],
      "metadata": {
        "id": "dqM5WE2E_pOL",
        "colab": {
          "base_uri": "https://localhost:8080/"
        },
        "outputId": "10bf18c3-b32e-4a6e-916f-942b0c01968f"
      },
      "execution_count": null,
      "outputs": [
        {
          "output_type": "execute_result",
          "data": {
            "text/plain": [
              "[2015, 2016, 2017, 2018, 2019, 2020, 2021]"
            ]
          },
          "metadata": {},
          "execution_count": 14
        }
      ]
    },
    {
      "cell_type": "markdown",
      "source": [
        "##Tmin"
      ],
      "metadata": {
        "id": "cvY_LMd75EV7"
      }
    },
    {
      "cell_type": "code",
      "source": [
        "tmin = tmin.rename(columns={'latitude': 'newlat'})\n",
        "tmin = tmin.rename(columns={'longitude': 'newlon'})"
      ],
      "metadata": {
        "id": "ozqtikQxN_Ch"
      },
      "execution_count": null,
      "outputs": []
    },
    {
      "cell_type": "code",
      "source": [
        "fn = 'pfw_tmin.csv'"
      ],
      "metadata": {
        "id": "TmV82Ni9Vphf"
      },
      "execution_count": null,
      "outputs": []
    },
    {
      "cell_type": "code",
      "source": [
        "wthr = tmin\n",
        "elem = 'tmin'\n",
        "bb = pfwd\n",
        "\n",
        "year = years[0]\n",
        "wthryear = wthr[wthr['year'] == year]\n",
        "byear = bb[bb['year'] == year]\n",
        "merg = byear.merge(wthryear[['newlat', 'newlon', 'month', 'day', 'year', elem]],\n",
        "                how='left', on=['newlat', 'newlon', 'month', 'day', 'year'])\n",
        "  \n",
        "for year in years[1:]:\n",
        "    wthryear = wthr[wthr['year'] == year]\n",
        "    byear = bb[bb['year'] == year]\n",
        "    df = byear.merge(wthryear[['newlat', 'newlon', 'month', 'day', 'year', elem]],\n",
        "                    how='left', on=['newlat', 'newlon', 'month', 'day', 'year'])\n",
        "    merg = pd.concat([merg, df], ignore_index=True)\n",
        "\n",
        "merg.to_csv(fp + fn)"
      ],
      "metadata": {
        "id": "ZrO9_Yu3AWDZ"
      },
      "execution_count": null,
      "outputs": []
    },
    {
      "cell_type": "code",
      "source": [
        "null_summary(merg)"
      ],
      "metadata": {
        "id": "FF0Ee7V7AWDa",
        "colab": {
          "base_uri": "https://localhost:8080/",
          "height": 81
        },
        "outputId": "55f7cc7e-5d6e-4e1f-8bc8-284a24e75e5d"
      },
      "execution_count": null,
      "outputs": [
        {
          "output_type": "execute_result",
          "data": {
            "text/plain": [
              "  null_names  null_counts  null_proportion null_dtypes\n",
              "0       tmin            2         0.000007     float64"
            ],
            "text/html": [
              "\n",
              "  <div id=\"df-7440375e-dfc7-43f5-8dae-b549a0ee0b24\">\n",
              "    <div class=\"colab-df-container\">\n",
              "      <div>\n",
              "<style scoped>\n",
              "    .dataframe tbody tr th:only-of-type {\n",
              "        vertical-align: middle;\n",
              "    }\n",
              "\n",
              "    .dataframe tbody tr th {\n",
              "        vertical-align: top;\n",
              "    }\n",
              "\n",
              "    .dataframe thead th {\n",
              "        text-align: right;\n",
              "    }\n",
              "</style>\n",
              "<table border=\"1\" class=\"dataframe\">\n",
              "  <thead>\n",
              "    <tr style=\"text-align: right;\">\n",
              "      <th></th>\n",
              "      <th>null_names</th>\n",
              "      <th>null_counts</th>\n",
              "      <th>null_proportion</th>\n",
              "      <th>null_dtypes</th>\n",
              "    </tr>\n",
              "  </thead>\n",
              "  <tbody>\n",
              "    <tr>\n",
              "      <th>0</th>\n",
              "      <td>tmin</td>\n",
              "      <td>2</td>\n",
              "      <td>0.000007</td>\n",
              "      <td>float64</td>\n",
              "    </tr>\n",
              "  </tbody>\n",
              "</table>\n",
              "</div>\n",
              "      <button class=\"colab-df-convert\" onclick=\"convertToInteractive('df-7440375e-dfc7-43f5-8dae-b549a0ee0b24')\"\n",
              "              title=\"Convert this dataframe to an interactive table.\"\n",
              "              style=\"display:none;\">\n",
              "        \n",
              "  <svg xmlns=\"http://www.w3.org/2000/svg\" height=\"24px\"viewBox=\"0 0 24 24\"\n",
              "       width=\"24px\">\n",
              "    <path d=\"M0 0h24v24H0V0z\" fill=\"none\"/>\n",
              "    <path d=\"M18.56 5.44l.94 2.06.94-2.06 2.06-.94-2.06-.94-.94-2.06-.94 2.06-2.06.94zm-11 1L8.5 8.5l.94-2.06 2.06-.94-2.06-.94L8.5 2.5l-.94 2.06-2.06.94zm10 10l.94 2.06.94-2.06 2.06-.94-2.06-.94-.94-2.06-.94 2.06-2.06.94z\"/><path d=\"M17.41 7.96l-1.37-1.37c-.4-.4-.92-.59-1.43-.59-.52 0-1.04.2-1.43.59L10.3 9.45l-7.72 7.72c-.78.78-.78 2.05 0 2.83L4 21.41c.39.39.9.59 1.41.59.51 0 1.02-.2 1.41-.59l7.78-7.78 2.81-2.81c.8-.78.8-2.07 0-2.86zM5.41 20L4 18.59l7.72-7.72 1.47 1.35L5.41 20z\"/>\n",
              "  </svg>\n",
              "      </button>\n",
              "      \n",
              "  <style>\n",
              "    .colab-df-container {\n",
              "      display:flex;\n",
              "      flex-wrap:wrap;\n",
              "      gap: 12px;\n",
              "    }\n",
              "\n",
              "    .colab-df-convert {\n",
              "      background-color: #E8F0FE;\n",
              "      border: none;\n",
              "      border-radius: 50%;\n",
              "      cursor: pointer;\n",
              "      display: none;\n",
              "      fill: #1967D2;\n",
              "      height: 32px;\n",
              "      padding: 0 0 0 0;\n",
              "      width: 32px;\n",
              "    }\n",
              "\n",
              "    .colab-df-convert:hover {\n",
              "      background-color: #E2EBFA;\n",
              "      box-shadow: 0px 1px 2px rgba(60, 64, 67, 0.3), 0px 1px 3px 1px rgba(60, 64, 67, 0.15);\n",
              "      fill: #174EA6;\n",
              "    }\n",
              "\n",
              "    [theme=dark] .colab-df-convert {\n",
              "      background-color: #3B4455;\n",
              "      fill: #D2E3FC;\n",
              "    }\n",
              "\n",
              "    [theme=dark] .colab-df-convert:hover {\n",
              "      background-color: #434B5C;\n",
              "      box-shadow: 0px 1px 3px 1px rgba(0, 0, 0, 0.15);\n",
              "      filter: drop-shadow(0px 1px 2px rgba(0, 0, 0, 0.3));\n",
              "      fill: #FFFFFF;\n",
              "    }\n",
              "  </style>\n",
              "\n",
              "      <script>\n",
              "        const buttonEl =\n",
              "          document.querySelector('#df-7440375e-dfc7-43f5-8dae-b549a0ee0b24 button.colab-df-convert');\n",
              "        buttonEl.style.display =\n",
              "          google.colab.kernel.accessAllowed ? 'block' : 'none';\n",
              "\n",
              "        async function convertToInteractive(key) {\n",
              "          const element = document.querySelector('#df-7440375e-dfc7-43f5-8dae-b549a0ee0b24');\n",
              "          const dataTable =\n",
              "            await google.colab.kernel.invokeFunction('convertToInteractive',\n",
              "                                                     [key], {});\n",
              "          if (!dataTable) return;\n",
              "\n",
              "          const docLinkHtml = 'Like what you see? Visit the ' +\n",
              "            '<a target=\"_blank\" href=https://colab.research.google.com/notebooks/data_table.ipynb>data table notebook</a>'\n",
              "            + ' to learn more about interactive tables.';\n",
              "          element.innerHTML = '';\n",
              "          dataTable['output_type'] = 'display_data';\n",
              "          await google.colab.output.renderOutput(dataTable, element);\n",
              "          const docLink = document.createElement('div');\n",
              "          docLink.innerHTML = docLinkHtml;\n",
              "          element.appendChild(docLink);\n",
              "        }\n",
              "      </script>\n",
              "    </div>\n",
              "  </div>\n",
              "  "
            ]
          },
          "metadata": {},
          "execution_count": 29
        }
      ]
    },
    {
      "cell_type": "markdown",
      "source": [
        "##Tmax"
      ],
      "metadata": {
        "id": "CJe7ho4H5G6D"
      }
    },
    {
      "cell_type": "code",
      "source": [
        "pfwe = pd.read_csv(fp + fn)"
      ],
      "metadata": {
        "id": "e7iM4qfmWOyh"
      },
      "execution_count": null,
      "outputs": []
    },
    {
      "cell_type": "code",
      "source": [
        "tmax = pd.read_csv(fp + \"tmax.csv\")"
      ],
      "metadata": {
        "id": "x2mnek_2r_r8"
      },
      "execution_count": null,
      "outputs": []
    },
    {
      "cell_type": "code",
      "source": [
        "tmax = tmax.rename(columns={'latitude': 'newlat'})\n",
        "tmax = tmax.rename(columns={'longitude': 'newlon'})"
      ],
      "metadata": {
        "id": "2TIQcEGmOf4S"
      },
      "execution_count": null,
      "outputs": []
    },
    {
      "cell_type": "code",
      "source": [
        "fn = 'pfw_tmin_tmax.csv'"
      ],
      "metadata": {
        "id": "kBO-fOfkVwV_"
      },
      "execution_count": null,
      "outputs": []
    },
    {
      "cell_type": "code",
      "source": [
        "wthr = tmax\n",
        "elem = 'tmax'\n",
        "bb = pfwe\n",
        "\n",
        "year = years[0]\n",
        "wthryear = wthr[wthr['year'] == year]\n",
        "byear = bb[bb['year'] == year]\n",
        "merg = byear.merge(wthryear[['newlat', 'newlon', 'month', 'day', 'year', elem]],\n",
        "                how='left', on=['newlat', 'newlon', 'month', 'day', 'year'])\n",
        "  \n",
        "for year in years[1:]:\n",
        "    wthryear = wthr[wthr['year'] == year]\n",
        "    byear = bb[bb['year'] == year]\n",
        "    df = byear.merge(wthryear[['newlat', 'newlon', 'month', 'day', 'year', elem]],\n",
        "                    how='left', on=['newlat', 'newlon', 'month', 'day', 'year'])\n",
        "    merg = pd.concat([merg, df], ignore_index=True)\n",
        "\n",
        "merg.to_csv(fp + fn)"
      ],
      "metadata": {
        "id": "1R97N-yDDnGH"
      },
      "execution_count": null,
      "outputs": []
    },
    {
      "cell_type": "code",
      "source": [
        "null_summary(merg)"
      ],
      "metadata": {
        "id": "ST1a2tFEDnGI",
        "colab": {
          "base_uri": "https://localhost:8080/",
          "height": 112
        },
        "outputId": "90991080-8288-44dd-969c-b1ca766a8c5c"
      },
      "execution_count": null,
      "outputs": [
        {
          "output_type": "execute_result",
          "data": {
            "text/plain": [
              "  null_names  null_counts  null_proportion null_dtypes\n",
              "0       tmin            2         0.000007     float64\n",
              "1       tmax            2         0.000007     float64"
            ],
            "text/html": [
              "\n",
              "  <div id=\"df-0f3dd733-65d1-4819-b926-5e180c68de35\">\n",
              "    <div class=\"colab-df-container\">\n",
              "      <div>\n",
              "<style scoped>\n",
              "    .dataframe tbody tr th:only-of-type {\n",
              "        vertical-align: middle;\n",
              "    }\n",
              "\n",
              "    .dataframe tbody tr th {\n",
              "        vertical-align: top;\n",
              "    }\n",
              "\n",
              "    .dataframe thead th {\n",
              "        text-align: right;\n",
              "    }\n",
              "</style>\n",
              "<table border=\"1\" class=\"dataframe\">\n",
              "  <thead>\n",
              "    <tr style=\"text-align: right;\">\n",
              "      <th></th>\n",
              "      <th>null_names</th>\n",
              "      <th>null_counts</th>\n",
              "      <th>null_proportion</th>\n",
              "      <th>null_dtypes</th>\n",
              "    </tr>\n",
              "  </thead>\n",
              "  <tbody>\n",
              "    <tr>\n",
              "      <th>0</th>\n",
              "      <td>tmin</td>\n",
              "      <td>2</td>\n",
              "      <td>0.000007</td>\n",
              "      <td>float64</td>\n",
              "    </tr>\n",
              "    <tr>\n",
              "      <th>1</th>\n",
              "      <td>tmax</td>\n",
              "      <td>2</td>\n",
              "      <td>0.000007</td>\n",
              "      <td>float64</td>\n",
              "    </tr>\n",
              "  </tbody>\n",
              "</table>\n",
              "</div>\n",
              "      <button class=\"colab-df-convert\" onclick=\"convertToInteractive('df-0f3dd733-65d1-4819-b926-5e180c68de35')\"\n",
              "              title=\"Convert this dataframe to an interactive table.\"\n",
              "              style=\"display:none;\">\n",
              "        \n",
              "  <svg xmlns=\"http://www.w3.org/2000/svg\" height=\"24px\"viewBox=\"0 0 24 24\"\n",
              "       width=\"24px\">\n",
              "    <path d=\"M0 0h24v24H0V0z\" fill=\"none\"/>\n",
              "    <path d=\"M18.56 5.44l.94 2.06.94-2.06 2.06-.94-2.06-.94-.94-2.06-.94 2.06-2.06.94zm-11 1L8.5 8.5l.94-2.06 2.06-.94-2.06-.94L8.5 2.5l-.94 2.06-2.06.94zm10 10l.94 2.06.94-2.06 2.06-.94-2.06-.94-.94-2.06-.94 2.06-2.06.94z\"/><path d=\"M17.41 7.96l-1.37-1.37c-.4-.4-.92-.59-1.43-.59-.52 0-1.04.2-1.43.59L10.3 9.45l-7.72 7.72c-.78.78-.78 2.05 0 2.83L4 21.41c.39.39.9.59 1.41.59.51 0 1.02-.2 1.41-.59l7.78-7.78 2.81-2.81c.8-.78.8-2.07 0-2.86zM5.41 20L4 18.59l7.72-7.72 1.47 1.35L5.41 20z\"/>\n",
              "  </svg>\n",
              "      </button>\n",
              "      \n",
              "  <style>\n",
              "    .colab-df-container {\n",
              "      display:flex;\n",
              "      flex-wrap:wrap;\n",
              "      gap: 12px;\n",
              "    }\n",
              "\n",
              "    .colab-df-convert {\n",
              "      background-color: #E8F0FE;\n",
              "      border: none;\n",
              "      border-radius: 50%;\n",
              "      cursor: pointer;\n",
              "      display: none;\n",
              "      fill: #1967D2;\n",
              "      height: 32px;\n",
              "      padding: 0 0 0 0;\n",
              "      width: 32px;\n",
              "    }\n",
              "\n",
              "    .colab-df-convert:hover {\n",
              "      background-color: #E2EBFA;\n",
              "      box-shadow: 0px 1px 2px rgba(60, 64, 67, 0.3), 0px 1px 3px 1px rgba(60, 64, 67, 0.15);\n",
              "      fill: #174EA6;\n",
              "    }\n",
              "\n",
              "    [theme=dark] .colab-df-convert {\n",
              "      background-color: #3B4455;\n",
              "      fill: #D2E3FC;\n",
              "    }\n",
              "\n",
              "    [theme=dark] .colab-df-convert:hover {\n",
              "      background-color: #434B5C;\n",
              "      box-shadow: 0px 1px 3px 1px rgba(0, 0, 0, 0.15);\n",
              "      filter: drop-shadow(0px 1px 2px rgba(0, 0, 0, 0.3));\n",
              "      fill: #FFFFFF;\n",
              "    }\n",
              "  </style>\n",
              "\n",
              "      <script>\n",
              "        const buttonEl =\n",
              "          document.querySelector('#df-0f3dd733-65d1-4819-b926-5e180c68de35 button.colab-df-convert');\n",
              "        buttonEl.style.display =\n",
              "          google.colab.kernel.accessAllowed ? 'block' : 'none';\n",
              "\n",
              "        async function convertToInteractive(key) {\n",
              "          const element = document.querySelector('#df-0f3dd733-65d1-4819-b926-5e180c68de35');\n",
              "          const dataTable =\n",
              "            await google.colab.kernel.invokeFunction('convertToInteractive',\n",
              "                                                     [key], {});\n",
              "          if (!dataTable) return;\n",
              "\n",
              "          const docLinkHtml = 'Like what you see? Visit the ' +\n",
              "            '<a target=\"_blank\" href=https://colab.research.google.com/notebooks/data_table.ipynb>data table notebook</a>'\n",
              "            + ' to learn more about interactive tables.';\n",
              "          element.innerHTML = '';\n",
              "          dataTable['output_type'] = 'display_data';\n",
              "          await google.colab.output.renderOutput(dataTable, element);\n",
              "          const docLink = document.createElement('div');\n",
              "          docLink.innerHTML = docLinkHtml;\n",
              "          element.appendChild(docLink);\n",
              "        }\n",
              "      </script>\n",
              "    </div>\n",
              "  </div>\n",
              "  "
            ]
          },
          "metadata": {},
          "execution_count": 20
        }
      ]
    },
    {
      "cell_type": "markdown",
      "source": [
        "##Precipitation"
      ],
      "metadata": {
        "id": "wkgnJoYd5YBi"
      }
    },
    {
      "cell_type": "code",
      "source": [
        "pfwf = pd.read_csv(fp + fn)"
      ],
      "metadata": {
        "id": "_fstODLCWDHD"
      },
      "execution_count": null,
      "outputs": []
    },
    {
      "cell_type": "code",
      "source": [
        "pcpn = pd.read_csv(fp + \"pcpn.csv\")"
      ],
      "metadata": {
        "id": "ZvIvEnQE6RzX"
      },
      "execution_count": null,
      "outputs": []
    },
    {
      "cell_type": "code",
      "source": [
        "pcpn = pcpn.rename(columns={'latitude': 'newlat'})\n",
        "pcpn = pcpn.rename(columns={'longitude': 'newlon'})"
      ],
      "metadata": {
        "id": "ZcedoFylwZon"
      },
      "execution_count": null,
      "outputs": []
    },
    {
      "cell_type": "code",
      "source": [
        "fn = 'pfw_tmin_tmax_pcpn.csv'"
      ],
      "metadata": {
        "id": "-h1INqGdV3i5"
      },
      "execution_count": null,
      "outputs": []
    },
    {
      "cell_type": "code",
      "source": [
        "wthr = pcpn\n",
        "elem = 'pcpn'\n",
        "bb = pfwf\n",
        "\n",
        "year = years[0]\n",
        "wthryear = wthr[wthr['year'] == year]\n",
        "byear = bb[bb['year'] == year]\n",
        "merg = byear.merge(wthryear[['newlat', 'newlon', 'month', 'day', 'year', elem]],\n",
        "                how='left', on=['newlat', 'newlon', 'month', 'day', 'year'])\n",
        "  \n",
        "for year in years[1:]:\n",
        "    wthryear = wthr[wthr['year'] == year]\n",
        "    byear = bb[bb['year'] == year]\n",
        "    df = byear.merge(wthryear[['newlat', 'newlon', 'month', 'day', 'year', elem]],\n",
        "                    how='left', on=['newlat', 'newlon', 'month', 'day', 'year'])\n",
        "    merg = pd.concat([merg, df], ignore_index=True)\n",
        "\n",
        "merg.to_csv(fp + fn)"
      ],
      "metadata": {
        "id": "rawyzwT4E9gn"
      },
      "execution_count": null,
      "outputs": []
    },
    {
      "cell_type": "code",
      "source": [
        "null_summary(merg)"
      ],
      "metadata": {
        "id": "aQ4QEXT3E9go",
        "colab": {
          "base_uri": "https://localhost:8080/",
          "height": 143
        },
        "outputId": "65d37db9-de62-4804-cd11-cd4abd001735"
      },
      "execution_count": null,
      "outputs": [
        {
          "output_type": "execute_result",
          "data": {
            "text/plain": [
              "  null_names  null_counts  null_proportion null_dtypes\n",
              "0       tmin            2         0.000007     float64\n",
              "1       tmax            2         0.000007     float64\n",
              "2       pcpn            2         0.000007     float64"
            ],
            "text/html": [
              "\n",
              "  <div id=\"df-6ec4c87c-4658-4eba-8a11-80be6b839583\">\n",
              "    <div class=\"colab-df-container\">\n",
              "      <div>\n",
              "<style scoped>\n",
              "    .dataframe tbody tr th:only-of-type {\n",
              "        vertical-align: middle;\n",
              "    }\n",
              "\n",
              "    .dataframe tbody tr th {\n",
              "        vertical-align: top;\n",
              "    }\n",
              "\n",
              "    .dataframe thead th {\n",
              "        text-align: right;\n",
              "    }\n",
              "</style>\n",
              "<table border=\"1\" class=\"dataframe\">\n",
              "  <thead>\n",
              "    <tr style=\"text-align: right;\">\n",
              "      <th></th>\n",
              "      <th>null_names</th>\n",
              "      <th>null_counts</th>\n",
              "      <th>null_proportion</th>\n",
              "      <th>null_dtypes</th>\n",
              "    </tr>\n",
              "  </thead>\n",
              "  <tbody>\n",
              "    <tr>\n",
              "      <th>0</th>\n",
              "      <td>tmin</td>\n",
              "      <td>2</td>\n",
              "      <td>0.000007</td>\n",
              "      <td>float64</td>\n",
              "    </tr>\n",
              "    <tr>\n",
              "      <th>1</th>\n",
              "      <td>tmax</td>\n",
              "      <td>2</td>\n",
              "      <td>0.000007</td>\n",
              "      <td>float64</td>\n",
              "    </tr>\n",
              "    <tr>\n",
              "      <th>2</th>\n",
              "      <td>pcpn</td>\n",
              "      <td>2</td>\n",
              "      <td>0.000007</td>\n",
              "      <td>float64</td>\n",
              "    </tr>\n",
              "  </tbody>\n",
              "</table>\n",
              "</div>\n",
              "      <button class=\"colab-df-convert\" onclick=\"convertToInteractive('df-6ec4c87c-4658-4eba-8a11-80be6b839583')\"\n",
              "              title=\"Convert this dataframe to an interactive table.\"\n",
              "              style=\"display:none;\">\n",
              "        \n",
              "  <svg xmlns=\"http://www.w3.org/2000/svg\" height=\"24px\"viewBox=\"0 0 24 24\"\n",
              "       width=\"24px\">\n",
              "    <path d=\"M0 0h24v24H0V0z\" fill=\"none\"/>\n",
              "    <path d=\"M18.56 5.44l.94 2.06.94-2.06 2.06-.94-2.06-.94-.94-2.06-.94 2.06-2.06.94zm-11 1L8.5 8.5l.94-2.06 2.06-.94-2.06-.94L8.5 2.5l-.94 2.06-2.06.94zm10 10l.94 2.06.94-2.06 2.06-.94-2.06-.94-.94-2.06-.94 2.06-2.06.94z\"/><path d=\"M17.41 7.96l-1.37-1.37c-.4-.4-.92-.59-1.43-.59-.52 0-1.04.2-1.43.59L10.3 9.45l-7.72 7.72c-.78.78-.78 2.05 0 2.83L4 21.41c.39.39.9.59 1.41.59.51 0 1.02-.2 1.41-.59l7.78-7.78 2.81-2.81c.8-.78.8-2.07 0-2.86zM5.41 20L4 18.59l7.72-7.72 1.47 1.35L5.41 20z\"/>\n",
              "  </svg>\n",
              "      </button>\n",
              "      \n",
              "  <style>\n",
              "    .colab-df-container {\n",
              "      display:flex;\n",
              "      flex-wrap:wrap;\n",
              "      gap: 12px;\n",
              "    }\n",
              "\n",
              "    .colab-df-convert {\n",
              "      background-color: #E8F0FE;\n",
              "      border: none;\n",
              "      border-radius: 50%;\n",
              "      cursor: pointer;\n",
              "      display: none;\n",
              "      fill: #1967D2;\n",
              "      height: 32px;\n",
              "      padding: 0 0 0 0;\n",
              "      width: 32px;\n",
              "    }\n",
              "\n",
              "    .colab-df-convert:hover {\n",
              "      background-color: #E2EBFA;\n",
              "      box-shadow: 0px 1px 2px rgba(60, 64, 67, 0.3), 0px 1px 3px 1px rgba(60, 64, 67, 0.15);\n",
              "      fill: #174EA6;\n",
              "    }\n",
              "\n",
              "    [theme=dark] .colab-df-convert {\n",
              "      background-color: #3B4455;\n",
              "      fill: #D2E3FC;\n",
              "    }\n",
              "\n",
              "    [theme=dark] .colab-df-convert:hover {\n",
              "      background-color: #434B5C;\n",
              "      box-shadow: 0px 1px 3px 1px rgba(0, 0, 0, 0.15);\n",
              "      filter: drop-shadow(0px 1px 2px rgba(0, 0, 0, 0.3));\n",
              "      fill: #FFFFFF;\n",
              "    }\n",
              "  </style>\n",
              "\n",
              "      <script>\n",
              "        const buttonEl =\n",
              "          document.querySelector('#df-6ec4c87c-4658-4eba-8a11-80be6b839583 button.colab-df-convert');\n",
              "        buttonEl.style.display =\n",
              "          google.colab.kernel.accessAllowed ? 'block' : 'none';\n",
              "\n",
              "        async function convertToInteractive(key) {\n",
              "          const element = document.querySelector('#df-6ec4c87c-4658-4eba-8a11-80be6b839583');\n",
              "          const dataTable =\n",
              "            await google.colab.kernel.invokeFunction('convertToInteractive',\n",
              "                                                     [key], {});\n",
              "          if (!dataTable) return;\n",
              "\n",
              "          const docLinkHtml = 'Like what you see? Visit the ' +\n",
              "            '<a target=\"_blank\" href=https://colab.research.google.com/notebooks/data_table.ipynb>data table notebook</a>'\n",
              "            + ' to learn more about interactive tables.';\n",
              "          element.innerHTML = '';\n",
              "          dataTable['output_type'] = 'display_data';\n",
              "          await google.colab.output.renderOutput(dataTable, element);\n",
              "          const docLink = document.createElement('div');\n",
              "          docLink.innerHTML = docLinkHtml;\n",
              "          element.appendChild(docLink);\n",
              "        }\n",
              "      </script>\n",
              "    </div>\n",
              "  </div>\n",
              "  "
            ]
          },
          "metadata": {},
          "execution_count": 16
        }
      ]
    },
    {
      "cell_type": "markdown",
      "source": [
        "##Merge with population and rural-urban data"
      ],
      "metadata": {
        "id": "AIJPwIIZ5yZi"
      }
    },
    {
      "cell_type": "code",
      "source": [
        "pfwg = pd.read_csv(fp + fn)"
      ],
      "metadata": {
        "id": "dj1nzfvWFj74"
      },
      "execution_count": null,
      "outputs": []
    },
    {
      "cell_type": "markdown",
      "source": [
        "Remove the extra columns originating from the merges, and remove the pfw columns that are redundant with the newly aggregated population and rural-urban data."
      ],
      "metadata": {
        "id": "HHYn1d3K4Shx"
      }
    },
    {
      "cell_type": "code",
      "source": [
        "rem = ['newlat', 'newlon', 'Unnamed: 0', 'Unnamed: 0.1']\n",
        "pfwg = pfwg.drop(columns = rem)"
      ],
      "metadata": {
        "id": "Le0CCyPn3-qk"
      },
      "execution_count": null,
      "outputs": []
    },
    {
      "cell_type": "markdown",
      "source": [
        "Now merge with the population and rural-urban data."
      ],
      "metadata": {
        "id": "czXzaeTmzstr"
      }
    },
    {
      "cell_type": "code",
      "source": [
        "popru = pd.read_csv(\"/content/drive/MyDrive/Modules/Module_30_Capstone_4_Final_project/urban_rural_pop/urban_rural_pop.csv\")"
      ],
      "metadata": {
        "id": "RAdKD2j7z10G"
      },
      "execution_count": null,
      "outputs": []
    },
    {
      "cell_type": "code",
      "source": [
        "bird = popru.merge(pfwg[['sub_id', 'tmin', 'tmax', 'pcpn']], how='left', on=['sub_id'])\n",
        "bird = bird.drop(columns = 'Unnamed: 0')"
      ],
      "metadata": {
        "id": "-OiAP2P85Src"
      },
      "execution_count": null,
      "outputs": []
    },
    {
      "cell_type": "code",
      "source": [
        "null_summary(bird)"
      ],
      "metadata": {
        "colab": {
          "base_uri": "https://localhost:8080/",
          "height": 143
        },
        "id": "DKtm9sQqavAw",
        "outputId": "f5772f01-0f83-4471-c881-9e1d3a50a254"
      },
      "execution_count": null,
      "outputs": [
        {
          "output_type": "execute_result",
          "data": {
            "text/plain": [
              "  null_names  null_counts  null_proportion null_dtypes\n",
              "0       tmin            2         0.000007     float64\n",
              "1       tmax            2         0.000007     float64\n",
              "2       pcpn            2         0.000007     float64"
            ],
            "text/html": [
              "\n",
              "  <div id=\"df-ed009186-e794-4423-9af1-d62d30cbddeb\">\n",
              "    <div class=\"colab-df-container\">\n",
              "      <div>\n",
              "<style scoped>\n",
              "    .dataframe tbody tr th:only-of-type {\n",
              "        vertical-align: middle;\n",
              "    }\n",
              "\n",
              "    .dataframe tbody tr th {\n",
              "        vertical-align: top;\n",
              "    }\n",
              "\n",
              "    .dataframe thead th {\n",
              "        text-align: right;\n",
              "    }\n",
              "</style>\n",
              "<table border=\"1\" class=\"dataframe\">\n",
              "  <thead>\n",
              "    <tr style=\"text-align: right;\">\n",
              "      <th></th>\n",
              "      <th>null_names</th>\n",
              "      <th>null_counts</th>\n",
              "      <th>null_proportion</th>\n",
              "      <th>null_dtypes</th>\n",
              "    </tr>\n",
              "  </thead>\n",
              "  <tbody>\n",
              "    <tr>\n",
              "      <th>0</th>\n",
              "      <td>tmin</td>\n",
              "      <td>2</td>\n",
              "      <td>0.000007</td>\n",
              "      <td>float64</td>\n",
              "    </tr>\n",
              "    <tr>\n",
              "      <th>1</th>\n",
              "      <td>tmax</td>\n",
              "      <td>2</td>\n",
              "      <td>0.000007</td>\n",
              "      <td>float64</td>\n",
              "    </tr>\n",
              "    <tr>\n",
              "      <th>2</th>\n",
              "      <td>pcpn</td>\n",
              "      <td>2</td>\n",
              "      <td>0.000007</td>\n",
              "      <td>float64</td>\n",
              "    </tr>\n",
              "  </tbody>\n",
              "</table>\n",
              "</div>\n",
              "      <button class=\"colab-df-convert\" onclick=\"convertToInteractive('df-ed009186-e794-4423-9af1-d62d30cbddeb')\"\n",
              "              title=\"Convert this dataframe to an interactive table.\"\n",
              "              style=\"display:none;\">\n",
              "        \n",
              "  <svg xmlns=\"http://www.w3.org/2000/svg\" height=\"24px\"viewBox=\"0 0 24 24\"\n",
              "       width=\"24px\">\n",
              "    <path d=\"M0 0h24v24H0V0z\" fill=\"none\"/>\n",
              "    <path d=\"M18.56 5.44l.94 2.06.94-2.06 2.06-.94-2.06-.94-.94-2.06-.94 2.06-2.06.94zm-11 1L8.5 8.5l.94-2.06 2.06-.94-2.06-.94L8.5 2.5l-.94 2.06-2.06.94zm10 10l.94 2.06.94-2.06 2.06-.94-2.06-.94-.94-2.06-.94 2.06-2.06.94z\"/><path d=\"M17.41 7.96l-1.37-1.37c-.4-.4-.92-.59-1.43-.59-.52 0-1.04.2-1.43.59L10.3 9.45l-7.72 7.72c-.78.78-.78 2.05 0 2.83L4 21.41c.39.39.9.59 1.41.59.51 0 1.02-.2 1.41-.59l7.78-7.78 2.81-2.81c.8-.78.8-2.07 0-2.86zM5.41 20L4 18.59l7.72-7.72 1.47 1.35L5.41 20z\"/>\n",
              "  </svg>\n",
              "      </button>\n",
              "      \n",
              "  <style>\n",
              "    .colab-df-container {\n",
              "      display:flex;\n",
              "      flex-wrap:wrap;\n",
              "      gap: 12px;\n",
              "    }\n",
              "\n",
              "    .colab-df-convert {\n",
              "      background-color: #E8F0FE;\n",
              "      border: none;\n",
              "      border-radius: 50%;\n",
              "      cursor: pointer;\n",
              "      display: none;\n",
              "      fill: #1967D2;\n",
              "      height: 32px;\n",
              "      padding: 0 0 0 0;\n",
              "      width: 32px;\n",
              "    }\n",
              "\n",
              "    .colab-df-convert:hover {\n",
              "      background-color: #E2EBFA;\n",
              "      box-shadow: 0px 1px 2px rgba(60, 64, 67, 0.3), 0px 1px 3px 1px rgba(60, 64, 67, 0.15);\n",
              "      fill: #174EA6;\n",
              "    }\n",
              "\n",
              "    [theme=dark] .colab-df-convert {\n",
              "      background-color: #3B4455;\n",
              "      fill: #D2E3FC;\n",
              "    }\n",
              "\n",
              "    [theme=dark] .colab-df-convert:hover {\n",
              "      background-color: #434B5C;\n",
              "      box-shadow: 0px 1px 3px 1px rgba(0, 0, 0, 0.15);\n",
              "      filter: drop-shadow(0px 1px 2px rgba(0, 0, 0, 0.3));\n",
              "      fill: #FFFFFF;\n",
              "    }\n",
              "  </style>\n",
              "\n",
              "      <script>\n",
              "        const buttonEl =\n",
              "          document.querySelector('#df-ed009186-e794-4423-9af1-d62d30cbddeb button.colab-df-convert');\n",
              "        buttonEl.style.display =\n",
              "          google.colab.kernel.accessAllowed ? 'block' : 'none';\n",
              "\n",
              "        async function convertToInteractive(key) {\n",
              "          const element = document.querySelector('#df-ed009186-e794-4423-9af1-d62d30cbddeb');\n",
              "          const dataTable =\n",
              "            await google.colab.kernel.invokeFunction('convertToInteractive',\n",
              "                                                     [key], {});\n",
              "          if (!dataTable) return;\n",
              "\n",
              "          const docLinkHtml = 'Like what you see? Visit the ' +\n",
              "            '<a target=\"_blank\" href=https://colab.research.google.com/notebooks/data_table.ipynb>data table notebook</a>'\n",
              "            + ' to learn more about interactive tables.';\n",
              "          element.innerHTML = '';\n",
              "          dataTable['output_type'] = 'display_data';\n",
              "          await google.colab.output.renderOutput(dataTable, element);\n",
              "          const docLink = document.createElement('div');\n",
              "          docLink.innerHTML = docLinkHtml;\n",
              "          element.appendChild(docLink);\n",
              "        }\n",
              "      </script>\n",
              "    </div>\n",
              "  </div>\n",
              "  "
            ]
          },
          "metadata": {},
          "execution_count": 14
        }
      ]
    },
    {
      "cell_type": "code",
      "source": [
        "bird = bird.dropna()"
      ],
      "metadata": {
        "id": "OaYoCfpsblBB"
      },
      "execution_count": null,
      "outputs": []
    },
    {
      "cell_type": "code",
      "source": [
        "bird.shape"
      ],
      "metadata": {
        "colab": {
          "base_uri": "https://localhost:8080/"
        },
        "id": "GSJKAXXDbn_N",
        "outputId": "4ee46b5d-8930-470e-bcab-66e2b8e017c5"
      },
      "execution_count": null,
      "outputs": [
        {
          "output_type": "execute_result",
          "data": {
            "text/plain": [
              "(304510, 225)"
            ]
          },
          "metadata": {},
          "execution_count": 16
        }
      ]
    },
    {
      "cell_type": "code",
      "source": [
        "bird.head()"
      ],
      "metadata": {
        "colab": {
          "base_uri": "https://localhost:8080/",
          "height": 299
        },
        "id": "R4YDVgvi93Qp",
        "outputId": "c78a5f22-bf21-47ac-89ed-4bb1a8d5a372"
      },
      "execution_count": null,
      "outputs": [
        {
          "output_type": "execute_result",
          "data": {
            "text/plain": [
              "      sub_id    loc_id   latitude  longitude state  month  day  year  \\\n",
              "0  S25821377   L356729  41.972319 -80.357978    PA     11   14  2015   \n",
              "1  S25821441  L1803877  40.042294 -75.734918    PA     11   14  2015   \n",
              "2  S25822713  L4006197  41.891688 -73.900931    NY     11   14  2015   \n",
              "3  S25822768  L1339929  38.782852 -77.198724    VA     11   14  2015   \n",
              "4  S25824425  L2410157  42.939565 -76.575397    NY     11   14  2015   \n",
              "\n",
              "  proj_period_id  valid  ...  numfeeders_other  count_area_size_sq_m_atleast  \\\n",
              "0       PFW_2016      1  ...               0.0                        375.01   \n",
              "1       PFW_2016      1  ...               0.0                        375.01   \n",
              "2       PFW_2016      1  ...               0.0                          1.01   \n",
              "3       PFW_2016      1  ...               0.0                          1.01   \n",
              "4       PFW_2016      1  ...               1.0                          1.01   \n",
              "\n",
              "   ruc_2013  uic_2013    pop_est  land_area  water_area  tmin  tmax  pcpn  \n",
              "0         2         2   278452.0    2069.80     1966.00  33.0  43.0  0.33  \n",
              "1         1         1   515098.0    1943.81       22.60  40.0  56.0  0.00  \n",
              "2         1         1   294105.0    2060.67       76.97  36.0  52.0  0.01  \n",
              "3         1         1  1141040.0    1012.60       39.57  44.0  61.0  0.00  \n",
              "4         4         5    78323.0    1791.19      445.71  34.0  47.0  0.19  \n",
              "\n",
              "[5 rows x 225 columns]"
            ],
            "text/html": [
              "\n",
              "  <div id=\"df-f357607f-ce50-45d5-8f34-2ab03acffb07\">\n",
              "    <div class=\"colab-df-container\">\n",
              "      <div>\n",
              "<style scoped>\n",
              "    .dataframe tbody tr th:only-of-type {\n",
              "        vertical-align: middle;\n",
              "    }\n",
              "\n",
              "    .dataframe tbody tr th {\n",
              "        vertical-align: top;\n",
              "    }\n",
              "\n",
              "    .dataframe thead th {\n",
              "        text-align: right;\n",
              "    }\n",
              "</style>\n",
              "<table border=\"1\" class=\"dataframe\">\n",
              "  <thead>\n",
              "    <tr style=\"text-align: right;\">\n",
              "      <th></th>\n",
              "      <th>sub_id</th>\n",
              "      <th>loc_id</th>\n",
              "      <th>latitude</th>\n",
              "      <th>longitude</th>\n",
              "      <th>state</th>\n",
              "      <th>month</th>\n",
              "      <th>day</th>\n",
              "      <th>year</th>\n",
              "      <th>proj_period_id</th>\n",
              "      <th>valid</th>\n",
              "      <th>...</th>\n",
              "      <th>numfeeders_other</th>\n",
              "      <th>count_area_size_sq_m_atleast</th>\n",
              "      <th>ruc_2013</th>\n",
              "      <th>uic_2013</th>\n",
              "      <th>pop_est</th>\n",
              "      <th>land_area</th>\n",
              "      <th>water_area</th>\n",
              "      <th>tmin</th>\n",
              "      <th>tmax</th>\n",
              "      <th>pcpn</th>\n",
              "    </tr>\n",
              "  </thead>\n",
              "  <tbody>\n",
              "    <tr>\n",
              "      <th>0</th>\n",
              "      <td>S25821377</td>\n",
              "      <td>L356729</td>\n",
              "      <td>41.972319</td>\n",
              "      <td>-80.357978</td>\n",
              "      <td>PA</td>\n",
              "      <td>11</td>\n",
              "      <td>14</td>\n",
              "      <td>2015</td>\n",
              "      <td>PFW_2016</td>\n",
              "      <td>1</td>\n",
              "      <td>...</td>\n",
              "      <td>0.0</td>\n",
              "      <td>375.01</td>\n",
              "      <td>2</td>\n",
              "      <td>2</td>\n",
              "      <td>278452.0</td>\n",
              "      <td>2069.80</td>\n",
              "      <td>1966.00</td>\n",
              "      <td>33.0</td>\n",
              "      <td>43.0</td>\n",
              "      <td>0.33</td>\n",
              "    </tr>\n",
              "    <tr>\n",
              "      <th>1</th>\n",
              "      <td>S25821441</td>\n",
              "      <td>L1803877</td>\n",
              "      <td>40.042294</td>\n",
              "      <td>-75.734918</td>\n",
              "      <td>PA</td>\n",
              "      <td>11</td>\n",
              "      <td>14</td>\n",
              "      <td>2015</td>\n",
              "      <td>PFW_2016</td>\n",
              "      <td>1</td>\n",
              "      <td>...</td>\n",
              "      <td>0.0</td>\n",
              "      <td>375.01</td>\n",
              "      <td>1</td>\n",
              "      <td>1</td>\n",
              "      <td>515098.0</td>\n",
              "      <td>1943.81</td>\n",
              "      <td>22.60</td>\n",
              "      <td>40.0</td>\n",
              "      <td>56.0</td>\n",
              "      <td>0.00</td>\n",
              "    </tr>\n",
              "    <tr>\n",
              "      <th>2</th>\n",
              "      <td>S25822713</td>\n",
              "      <td>L4006197</td>\n",
              "      <td>41.891688</td>\n",
              "      <td>-73.900931</td>\n",
              "      <td>NY</td>\n",
              "      <td>11</td>\n",
              "      <td>14</td>\n",
              "      <td>2015</td>\n",
              "      <td>PFW_2016</td>\n",
              "      <td>1</td>\n",
              "      <td>...</td>\n",
              "      <td>0.0</td>\n",
              "      <td>1.01</td>\n",
              "      <td>1</td>\n",
              "      <td>1</td>\n",
              "      <td>294105.0</td>\n",
              "      <td>2060.67</td>\n",
              "      <td>76.97</td>\n",
              "      <td>36.0</td>\n",
              "      <td>52.0</td>\n",
              "      <td>0.01</td>\n",
              "    </tr>\n",
              "    <tr>\n",
              "      <th>3</th>\n",
              "      <td>S25822768</td>\n",
              "      <td>L1339929</td>\n",
              "      <td>38.782852</td>\n",
              "      <td>-77.198724</td>\n",
              "      <td>VA</td>\n",
              "      <td>11</td>\n",
              "      <td>14</td>\n",
              "      <td>2015</td>\n",
              "      <td>PFW_2016</td>\n",
              "      <td>1</td>\n",
              "      <td>...</td>\n",
              "      <td>0.0</td>\n",
              "      <td>1.01</td>\n",
              "      <td>1</td>\n",
              "      <td>1</td>\n",
              "      <td>1141040.0</td>\n",
              "      <td>1012.60</td>\n",
              "      <td>39.57</td>\n",
              "      <td>44.0</td>\n",
              "      <td>61.0</td>\n",
              "      <td>0.00</td>\n",
              "    </tr>\n",
              "    <tr>\n",
              "      <th>4</th>\n",
              "      <td>S25824425</td>\n",
              "      <td>L2410157</td>\n",
              "      <td>42.939565</td>\n",
              "      <td>-76.575397</td>\n",
              "      <td>NY</td>\n",
              "      <td>11</td>\n",
              "      <td>14</td>\n",
              "      <td>2015</td>\n",
              "      <td>PFW_2016</td>\n",
              "      <td>1</td>\n",
              "      <td>...</td>\n",
              "      <td>1.0</td>\n",
              "      <td>1.01</td>\n",
              "      <td>4</td>\n",
              "      <td>5</td>\n",
              "      <td>78323.0</td>\n",
              "      <td>1791.19</td>\n",
              "      <td>445.71</td>\n",
              "      <td>34.0</td>\n",
              "      <td>47.0</td>\n",
              "      <td>0.19</td>\n",
              "    </tr>\n",
              "  </tbody>\n",
              "</table>\n",
              "<p>5 rows × 225 columns</p>\n",
              "</div>\n",
              "      <button class=\"colab-df-convert\" onclick=\"convertToInteractive('df-f357607f-ce50-45d5-8f34-2ab03acffb07')\"\n",
              "              title=\"Convert this dataframe to an interactive table.\"\n",
              "              style=\"display:none;\">\n",
              "        \n",
              "  <svg xmlns=\"http://www.w3.org/2000/svg\" height=\"24px\"viewBox=\"0 0 24 24\"\n",
              "       width=\"24px\">\n",
              "    <path d=\"M0 0h24v24H0V0z\" fill=\"none\"/>\n",
              "    <path d=\"M18.56 5.44l.94 2.06.94-2.06 2.06-.94-2.06-.94-.94-2.06-.94 2.06-2.06.94zm-11 1L8.5 8.5l.94-2.06 2.06-.94-2.06-.94L8.5 2.5l-.94 2.06-2.06.94zm10 10l.94 2.06.94-2.06 2.06-.94-2.06-.94-.94-2.06-.94 2.06-2.06.94z\"/><path d=\"M17.41 7.96l-1.37-1.37c-.4-.4-.92-.59-1.43-.59-.52 0-1.04.2-1.43.59L10.3 9.45l-7.72 7.72c-.78.78-.78 2.05 0 2.83L4 21.41c.39.39.9.59 1.41.59.51 0 1.02-.2 1.41-.59l7.78-7.78 2.81-2.81c.8-.78.8-2.07 0-2.86zM5.41 20L4 18.59l7.72-7.72 1.47 1.35L5.41 20z\"/>\n",
              "  </svg>\n",
              "      </button>\n",
              "      \n",
              "  <style>\n",
              "    .colab-df-container {\n",
              "      display:flex;\n",
              "      flex-wrap:wrap;\n",
              "      gap: 12px;\n",
              "    }\n",
              "\n",
              "    .colab-df-convert {\n",
              "      background-color: #E8F0FE;\n",
              "      border: none;\n",
              "      border-radius: 50%;\n",
              "      cursor: pointer;\n",
              "      display: none;\n",
              "      fill: #1967D2;\n",
              "      height: 32px;\n",
              "      padding: 0 0 0 0;\n",
              "      width: 32px;\n",
              "    }\n",
              "\n",
              "    .colab-df-convert:hover {\n",
              "      background-color: #E2EBFA;\n",
              "      box-shadow: 0px 1px 2px rgba(60, 64, 67, 0.3), 0px 1px 3px 1px rgba(60, 64, 67, 0.15);\n",
              "      fill: #174EA6;\n",
              "    }\n",
              "\n",
              "    [theme=dark] .colab-df-convert {\n",
              "      background-color: #3B4455;\n",
              "      fill: #D2E3FC;\n",
              "    }\n",
              "\n",
              "    [theme=dark] .colab-df-convert:hover {\n",
              "      background-color: #434B5C;\n",
              "      box-shadow: 0px 1px 3px 1px rgba(0, 0, 0, 0.15);\n",
              "      filter: drop-shadow(0px 1px 2px rgba(0, 0, 0, 0.3));\n",
              "      fill: #FFFFFF;\n",
              "    }\n",
              "  </style>\n",
              "\n",
              "      <script>\n",
              "        const buttonEl =\n",
              "          document.querySelector('#df-f357607f-ce50-45d5-8f34-2ab03acffb07 button.colab-df-convert');\n",
              "        buttonEl.style.display =\n",
              "          google.colab.kernel.accessAllowed ? 'block' : 'none';\n",
              "\n",
              "        async function convertToInteractive(key) {\n",
              "          const element = document.querySelector('#df-f357607f-ce50-45d5-8f34-2ab03acffb07');\n",
              "          const dataTable =\n",
              "            await google.colab.kernel.invokeFunction('convertToInteractive',\n",
              "                                                     [key], {});\n",
              "          if (!dataTable) return;\n",
              "\n",
              "          const docLinkHtml = 'Like what you see? Visit the ' +\n",
              "            '<a target=\"_blank\" href=https://colab.research.google.com/notebooks/data_table.ipynb>data table notebook</a>'\n",
              "            + ' to learn more about interactive tables.';\n",
              "          element.innerHTML = '';\n",
              "          dataTable['output_type'] = 'display_data';\n",
              "          await google.colab.output.renderOutput(dataTable, element);\n",
              "          const docLink = document.createElement('div');\n",
              "          docLink.innerHTML = docLinkHtml;\n",
              "          element.appendChild(docLink);\n",
              "        }\n",
              "      </script>\n",
              "    </div>\n",
              "  </div>\n",
              "  "
            ]
          },
          "metadata": {},
          "execution_count": 17
        }
      ]
    },
    {
      "cell_type": "code",
      "source": [
        "bird.to_csv(\"/content/drive/MyDrive/Modules/Module_30_Capstone_4_Final_project/aggregated_data.csv\")"
      ],
      "metadata": {
        "id": "HGX_x0By7Hw5"
      },
      "execution_count": null,
      "outputs": []
    }
  ]
}
