{
  "nbformat": 4,
  "nbformat_minor": 0,
  "metadata": {
    "colab": {
      "name": "02_weather_scrape.ipynb",
      "provenance": [],
      "machine_shape": "hm",
      "authorship_tag": "ABX9TyObfxdhB/jv9re1v6syQa+C"
    },
    "kernelspec": {
      "name": "python3",
      "display_name": "Python 3"
    },
    "language_info": {
      "name": "python"
    },
    "accelerator": "GPU"
  },
  "cells": [
    {
      "cell_type": "markdown",
      "source": [
        "##Libraries"
      ],
      "metadata": {
        "id": "hBfSCHGtu2cD"
      }
    },
    {
      "cell_type": "code",
      "source": [
        "from google.colab import drive\n",
        "drive.mount('drive')"
      ],
      "metadata": {
        "colab": {
          "base_uri": "https://localhost:8080/"
        },
        "id": "GkUtbD8zs1H_",
        "outputId": "b7c878b7-8dd9-4bdf-f3ee-8867bcbe7663"
      },
      "execution_count": null,
      "outputs": [
        {
          "output_type": "stream",
          "name": "stdout",
          "text": [
            "Mounted at drive\n"
          ]
        }
      ]
    },
    {
      "cell_type": "code",
      "source": [
        "#Import modules required by Acis\n",
        "import urllib.request\n",
        "import urllib.error\n",
        "import json"
      ],
      "metadata": {
        "id": "LmFwM7QutTk0"
      },
      "execution_count": null,
      "outputs": []
    },
    {
      "cell_type": "code",
      "source": [
        "import matplotlib.pyplot as plt\n",
        "import matplotlib.dates as mdates\n",
        "import matplotlib.ticker as ticker\n",
        "import datetime\n",
        "import numpy as np\n",
        "import pandas as pd\n",
        "from IPython import display\n",
        "from IPython.display import clear_output"
      ],
      "metadata": {
        "id": "9_qjv2lUQ9sn"
      },
      "execution_count": null,
      "outputs": []
    },
    {
      "cell_type": "code",
      "execution_count": null,
      "metadata": {
        "colab": {
          "base_uri": "https://localhost:8080/"
        },
        "id": "L53sDPmpKYda",
        "outputId": "4aef68c8-2429-4b5d-b98d-a5032eb8bcc3"
      },
      "outputs": [
        {
          "output_type": "stream",
          "name": "stdout",
          "text": [
            "Found GPU at: /device:GPU:0\n",
            "TensorFlow version: 2.8.2\n"
          ]
        }
      ],
      "source": [
        "import tensorflow\n",
        "device_name = tensorflow.test.gpu_device_name()\n",
        "if device_name != '/device:GPU:0':\n",
        "  raise SystemError('GPU device not found')\n",
        "print('Found GPU at: {}'.format(device_name))\n",
        "print(\"TensorFlow version:\", tensorflow.__version__)"
      ]
    },
    {
      "cell_type": "code",
      "execution_count": null,
      "metadata": {
        "colab": {
          "base_uri": "https://localhost:8080/"
        },
        "id": "wUESBUuITZI0",
        "outputId": "8ac1ede1-7670-427e-9bf8-5e842eeb34c5"
      },
      "outputs": [
        {
          "output_type": "stream",
          "name": "stdout",
          "text": [
            "Wed Jun 15 19:01:43 2022       \n",
            "+-----------------------------------------------------------------------------+\n",
            "| NVIDIA-SMI 460.32.03    Driver Version: 460.32.03    CUDA Version: 11.2     |\n",
            "|-------------------------------+----------------------+----------------------+\n",
            "| GPU  Name        Persistence-M| Bus-Id        Disp.A | Volatile Uncorr. ECC |\n",
            "| Fan  Temp  Perf  Pwr:Usage/Cap|         Memory-Usage | GPU-Util  Compute M. |\n",
            "|                               |                      |               MIG M. |\n",
            "|===============================+======================+======================|\n",
            "|   0  Tesla P100-PCIE...  Off  | 00000000:00:04.0 Off |                    0 |\n",
            "| N/A   35C    P0    32W / 250W |    375MiB / 16280MiB |      1%      Default |\n",
            "|                               |                      |                  N/A |\n",
            "+-------------------------------+----------------------+----------------------+\n",
            "                                                                               \n",
            "+-----------------------------------------------------------------------------+\n",
            "| Processes:                                                                  |\n",
            "|  GPU   GI   CI        PID   Type   Process name                  GPU Memory |\n",
            "|        ID   ID                                                   Usage      |\n",
            "|=============================================================================|\n",
            "+-----------------------------------------------------------------------------+\n"
          ]
        }
      ],
      "source": [
        "gpu_info = !nvidia-smi\n",
        "gpu_info = '\\n'.join(gpu_info)\n",
        "if gpu_info.find('failed') >= 0:\n",
        "  print('Not connected to a GPU')\n",
        "else:\n",
        "  print(gpu_info)"
      ]
    },
    {
      "cell_type": "code",
      "execution_count": null,
      "metadata": {
        "colab": {
          "base_uri": "https://localhost:8080/"
        },
        "id": "3NqsALumUJzc",
        "outputId": "340a6074-29e9-4f86-e771-e0d5ba8219ab"
      },
      "outputs": [
        {
          "output_type": "stream",
          "name": "stdout",
          "text": [
            "Your runtime has 54.8 gigabytes of available RAM\n",
            "\n",
            "You are using a high-RAM runtime!\n"
          ]
        }
      ],
      "source": [
        "from psutil import virtual_memory\n",
        "ram_gb = virtual_memory().total / 1e9\n",
        "print('Your runtime has {:.1f} gigabytes of available RAM\\n'.format(ram_gb))\n",
        "\n",
        "if ram_gb < 20:\n",
        "  print('Not using a high-RAM runtime')\n",
        "else:\n",
        "  print('You are using a high-RAM runtime!')"
      ]
    },
    {
      "cell_type": "markdown",
      "source": [
        "##Get Data"
      ],
      "metadata": {
        "id": "vxvzPgnRoSw4"
      }
    },
    {
      "cell_type": "code",
      "source": [
        "outfdr = \"/content/drive/MyDrive/Modules/Module_30_Capstone_4_Final_project/weather_data/\"\n",
        "\n",
        "pfw_prepped = pd.read_csv(outfdr + \"pfw_prepped.csv\")\n",
        "pfw_prepped = pfw_prepped.drop(columns = 'Unnamed: 0')"
      ],
      "metadata": {
        "id": "ybEuREhBoYPf"
      },
      "execution_count": null,
      "outputs": []
    },
    {
      "cell_type": "code",
      "source": [
        "# Bounding box\n",
        "lat_min = pfw_prepped.latitude.min()\n",
        "lat_max = pfw_prepped.latitude.max()\n",
        "long_min = pfw_prepped.longitude.min()\n",
        "long_max = pfw_prepped.longitude.max()\n",
        "bbox = ', '.join(str(x) for x in [long_min, lat_min, long_max, lat_max])\n",
        "\n",
        "# Date Ranges\n",
        "split = 6\n",
        "inc = (datetime.date.fromisoformat(pfw_prepped.datetime.max()) - datetime.date.fromisoformat(pfw_prepped.datetime.min())).days // split\n",
        "date_ranges = []\n",
        "for ii in np.arange(0, split):\n",
        "    if ii in np.arange(0, split-1):\n",
        "        start = (datetime.date.fromisoformat(pfw_prepped.datetime.min()) + datetime.timedelta(days=int(ii)*inc)).strftime(\"%Y%m%d\")\n",
        "        end = (datetime.date.fromisoformat(pfw_prepped.datetime.min()) + datetime.timedelta(days=(int(ii)+1)*inc)).strftime(\"%Y%m%d\")\n",
        "    else:\n",
        "        start = (datetime.date.fromisoformat(pfw_prepped.datetime.min()) + datetime.timedelta(days=int(ii)*inc)).strftime(\"%Y%m%d\")\n",
        "        end = datetime.date.fromisoformat(pfw_prepped.datetime.max()).strftime(\"%Y%m%d\")\n",
        "    date_ranges.append([start, end])"
      ],
      "metadata": {
        "id": "j1kQJKF3oiUR"
      },
      "execution_count": null,
      "outputs": []
    },
    {
      "cell_type": "code",
      "source": [
        "# ACIS-WS Sample Code\n",
        "# Set ACIS data server\n",
        "base_url = \"http://data.rcc-acis.org/\"\n",
        "#######################################\n",
        "# ACIS WebServices functions\n",
        "#######################################\n",
        "def make_request(url,params):\n",
        "    req = urllib.request.Request(url,\n",
        "    json.dumps(params).encode('utf-8'),\n",
        "    {\"Content-Type\":\"application/json\"})\n",
        "    try:\n",
        "        response = urllib.request.urlopen(req)\n",
        "        return json.loads(response.read())\n",
        "    except urllib.error.HTTPError as error:\n",
        "        if error.code == 400 : print(error.msg)\n",
        "\n",
        "def GridData(params) :\n",
        "    return make_request(base_url+\"GridData\",params)\n",
        "\n",
        "def flatten(t):\n",
        "    return [item for sublist in t for item in sublist]\n",
        "\n",
        "for varb in ['pcpn', 'mint', 'maxt']:\n",
        "    for dr in date_ranges:\n",
        "        start = dr[0]   # Start date\n",
        "        end = dr[1]   # End date\n",
        "        outf = varb + '_' + start + '_' + end + '.csv'   # Filename of csv\n",
        "\n",
        "        ###################################################\n",
        "        # M A I N\n",
        "        ###################################################\n",
        "        if __name__ == \"__main__\":\n",
        "            # Set parameters for data request\n",
        "            params = {\n",
        "                \"bbox\" : bbox,\n",
        "                \"sdate\" : start,\n",
        "                \"edate\" : end,\n",
        "                \"grid\" : \"1\",\n",
        "                \"elems\" : [varb],\n",
        "                \"meta\" : \"ll\"\n",
        "            }\n",
        "            # Obtain data\n",
        "            data = GridData(params)\n",
        "\n",
        "        lat = flatten(data['meta']['lat'])\n",
        "        lon = flatten(data['meta']['lon'])\n",
        "        dfa = pd.DataFrame(columns = ['latitude', 'longitude', 'month', 'day', 'year', varb])\n",
        "\n",
        "        for dd in np.arange(0, len(data['data'])):\n",
        "            date = list(np.repeat(data['data'][dd][0], len(lon)))\n",
        "            clear_output()\n",
        "            print(varb)\n",
        "            print(date[0])\n",
        "\n",
        "            if date[0][5:7] in ['10', '11', '12']:\n",
        "                month = [x[5:7] for x in date]\n",
        "            else:\n",
        "                month = [x[6:7] for x in date]\n",
        "\n",
        "            if date[0][8:10] in ['01', '02', '03', '04', '05', '06', '07', '08', '09']:\n",
        "                day = [x[9:10] for x in date]\n",
        "            else:\n",
        "                day = [x[8:10] for x in date]\n",
        "\n",
        "            year = [x[0:4] for x in date]\n",
        "\n",
        "            datfl = flatten(data['data'][dd][1])\n",
        "            dct = {'latitude' : lat,\n",
        "                  'longitude' : lon,\n",
        "                  'month' : month,\n",
        "                  'day' : day,\n",
        "                  'year' : year,\n",
        "                  varb : datfl}\n",
        "        \n",
        "            dfb = pd.DataFrame(dct)\n",
        "            dfa = pd.concat([dfa, dfb], ignore_index=True)\n",
        "\n",
        "        dfa.to_csv(outfdr + outf)"
      ],
      "metadata": {
        "id": "zuBBgRl_2djk",
        "colab": {
          "base_uri": "https://localhost:8080/"
        },
        "outputId": "74e284a3-15dd-4dec-e665-94d6fa6ec08b"
      },
      "execution_count": null,
      "outputs": [
        {
          "output_type": "stream",
          "name": "stdout",
          "text": [
            "maxt\n",
            "2021-04-30\n"
          ]
        }
      ]
    },
    {
      "cell_type": "markdown",
      "source": [
        "##Concatenate Data"
      ],
      "metadata": {
        "id": "bVdREKnnj6Ww"
      }
    },
    {
      "cell_type": "code",
      "source": [
        "for varb in ['pcpn', 'mint', 'maxt']:\n",
        "    listy = []\n",
        "    for dr in date_ranges:\n",
        "        start = dr[0]   # Start date\n",
        "        end = dr[1]   # End date\n",
        "        outf = varb + '_' + start + '_' + end + '.csv'   # Filename of csv\n",
        "        imprt = pd.read_csv(outfdr + outf)\n",
        "        listy.append(imprt)\n",
        "    dfc = pd.concat(listy, ignore_index=True)\n",
        "    dfc = dfc.drop(columns = 'Unnamed: 0')\n",
        "    if varb[3] == 't':\n",
        "        dfc.to_csv(outfdr + varb[3] + varb[0:3] + '.csv')\n",
        "    else:\n",
        "        dfc.to_csv(outfdr + varb + '.csv')"
      ],
      "metadata": {
        "id": "mrz8Op3Sj8Iy"
      },
      "execution_count": null,
      "outputs": []
    }
  ]
}