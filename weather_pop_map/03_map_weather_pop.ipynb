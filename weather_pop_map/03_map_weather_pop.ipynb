{
  "cells": [
    {
      "cell_type": "markdown",
      "metadata": {
        "id": "_DtwbHFChjao"
      },
      "source": [
        "##Libraries"
      ]
    },
    {
      "cell_type": "code",
      "execution_count": null,
      "metadata": {
        "colab": {
          "base_uri": "https://localhost:8080/"
        },
        "id": "Tu-t0UzjPpY6",
        "outputId": "a66da4df-5ca8-4b9f-9bed-b9b0523e79ca"
      },
      "outputs": [
        {
          "output_type": "stream",
          "name": "stdout",
          "text": [
            "Mounted at drive\n"
          ]
        }
      ],
      "source": [
        "from google.colab import drive\n",
        "drive.mount('drive')"
      ]
    },
    {
      "cell_type": "code",
      "execution_count": null,
      "metadata": {
        "id": "nkOQG3FUQ109"
      },
      "outputs": [],
      "source": [
        "import pandas as pd\n",
        "import numpy as np\n",
        "from math import radians, cos, sin, asin, sqrt"
      ]
    },
    {
      "cell_type": "code",
      "execution_count": null,
      "metadata": {
        "colab": {
          "base_uri": "https://localhost:8080/"
        },
        "id": "L53sDPmpKYda",
        "outputId": "fe7e7709-8585-4694-f2e2-51eac3d9fed6"
      },
      "outputs": [
        {
          "output_type": "stream",
          "name": "stdout",
          "text": [
            "Found GPU at: /device:GPU:0\n",
            "TensorFlow version: 2.8.2\n"
          ]
        }
      ],
      "source": [
        "import tensorflow\n",
        "device_name = tensorflow.test.gpu_device_name()\n",
        "if device_name != '/device:GPU:0':\n",
        "  raise SystemError('GPU device not found')\n",
        "print('Found GPU at: {}'.format(device_name))\n",
        "print(\"TensorFlow version:\", tensorflow.__version__)"
      ]
    },
    {
      "cell_type": "code",
      "execution_count": null,
      "metadata": {
        "colab": {
          "base_uri": "https://localhost:8080/"
        },
        "id": "wUESBUuITZI0",
        "outputId": "11893428-6d1b-4d2d-f301-11f2f3075f04"
      },
      "outputs": [
        {
          "output_type": "stream",
          "name": "stdout",
          "text": [
            "Thu Jun 16 01:09:10 2022       \n",
            "+-----------------------------------------------------------------------------+\n",
            "| NVIDIA-SMI 460.32.03    Driver Version: 460.32.03    CUDA Version: 11.2     |\n",
            "|-------------------------------+----------------------+----------------------+\n",
            "| GPU  Name        Persistence-M| Bus-Id        Disp.A | Volatile Uncorr. ECC |\n",
            "| Fan  Temp  Perf  Pwr:Usage/Cap|         Memory-Usage | GPU-Util  Compute M. |\n",
            "|                               |                      |               MIG M. |\n",
            "|===============================+======================+======================|\n",
            "|   0  Tesla V100-SXM2...  Off  | 00000000:00:04.0 Off |                    0 |\n",
            "| N/A   32C    P0    38W / 300W |    471MiB / 16160MiB |      0%      Default |\n",
            "|                               |                      |                  N/A |\n",
            "+-------------------------------+----------------------+----------------------+\n",
            "                                                                               \n",
            "+-----------------------------------------------------------------------------+\n",
            "| Processes:                                                                  |\n",
            "|  GPU   GI   CI        PID   Type   Process name                  GPU Memory |\n",
            "|        ID   ID                                                   Usage      |\n",
            "|=============================================================================|\n",
            "+-----------------------------------------------------------------------------+\n"
          ]
        }
      ],
      "source": [
        "gpu_info = !nvidia-smi\n",
        "gpu_info = '\\n'.join(gpu_info)\n",
        "if gpu_info.find('failed') >= 0:\n",
        "  print('Not connected to a GPU')\n",
        "else:\n",
        "  print(gpu_info)"
      ]
    },
    {
      "cell_type": "code",
      "execution_count": null,
      "metadata": {
        "colab": {
          "base_uri": "https://localhost:8080/"
        },
        "id": "3NqsALumUJzc",
        "outputId": "4cb7e14b-7626-4935-9b42-439420d1e757"
      },
      "outputs": [
        {
          "output_type": "stream",
          "name": "stdout",
          "text": [
            "Your runtime has 54.8 gigabytes of available RAM\n",
            "\n",
            "You are using a high-RAM runtime!\n"
          ]
        }
      ],
      "source": [
        "from psutil import virtual_memory\n",
        "ram_gb = virtual_memory().total / 1e9\n",
        "print('Your runtime has {:.1f} gigabytes of available RAM\\n'.format(ram_gb))\n",
        "\n",
        "if ram_gb < 20:\n",
        "  print('Not using a high-RAM runtime')\n",
        "else:\n",
        "  print('You are using a high-RAM runtime!')"
      ]
    },
    {
      "cell_type": "markdown",
      "metadata": {
        "id": "8KFhPW50MmjJ"
      },
      "source": [
        "## Functions"
      ]
    },
    {
      "cell_type": "code",
      "execution_count": null,
      "metadata": {
        "id": "PuMn5Z5mMsHw"
      },
      "outputs": [],
      "source": [
        "# Create df of null_names, null_counts, null_proportion, and null_dtypes\n",
        "def null_summary(df):\n",
        "  var_null_list = df.columns[df.isna().any()]\n",
        "  var_null_names = df[var_null_list].dtypes.index\n",
        "  var_null_counts = df[var_null_list].isna().sum()\n",
        "  var_null_proportion = df[var_null_list].isna().sum()/df[var_null_list].isna().count()\n",
        "  var_null_dtypes = df[var_null_list].dtypes\n",
        "  var_null_df = pd.DataFrame({'null_names' : var_null_names, 'null_counts' : var_null_counts, 'null_proportion' : var_null_proportion, 'null_dtypes' : var_null_dtypes})\n",
        "  \n",
        "  return var_null_df.reset_index(drop=True)"
      ]
    },
    {
      "cell_type": "markdown",
      "metadata": {
        "id": "1Xpk0molhodP"
      },
      "source": [
        "##Map"
      ]
    },
    {
      "cell_type": "code",
      "execution_count": null,
      "metadata": {
        "id": "ZwOPQsstBv7Q"
      },
      "outputs": [],
      "source": [
        "fp = '/content/drive/MyDrive/Modules/Module_30_Capstone_4_Final_project/weather_data/'"
      ]
    },
    {
      "cell_type": "code",
      "execution_count": null,
      "metadata": {
        "id": "GL1idYvGhtnX"
      },
      "outputs": [],
      "source": [
        "pfw_prepped = pd.read_csv(fp + \"pfw_prepped.csv\")\n",
        "pfw_prepped = pfw_prepped.drop(columns = 'Unnamed: 0')"
      ]
    },
    {
      "cell_type": "code",
      "execution_count": null,
      "metadata": {
        "id": "jB_sgN0fQ1PA"
      },
      "outputs": [],
      "source": [
        "locs = pd.read_csv(fp + \"locs.csv\")\n",
        "locs = locs.rename(columns = {'Unnamed: 0':'id'})"
      ]
    },
    {
      "cell_type": "code",
      "execution_count": null,
      "metadata": {
        "id": "cqDT5HSiRF5N"
      },
      "outputs": [],
      "source": [
        "# Use tmin to do the location mapping\n",
        "tmin = pd.read_csv(fp + \"tmin.csv\")\n",
        "mplocs = tmin.groupby(['latitude', 'longitude']).count().reset_index()[['latitude', 'longitude']]\n",
        "mplocs['id'] = np.arange(0, mplocs.shape[0])"
      ]
    },
    {
      "cell_type": "code",
      "execution_count": null,
      "metadata": {
        "id": "UpLP9wU5ZExr"
      },
      "outputs": [],
      "source": [
        "mplocs.to_csv(fp + \"tmin_locs.csv\")"
      ]
    },
    {
      "cell_type": "code",
      "execution_count": null,
      "metadata": {
        "id": "d52GTkx7sn5B"
      },
      "outputs": [],
      "source": [
        "def quarters(df):\n",
        "\n",
        "    minlat = df['latitude'].min()\n",
        "    maxlat = df['latitude'].max()\n",
        "    midlat = (maxlat + minlat)/2\n",
        "\n",
        "    minlon = df['longitude'].min()\n",
        "    maxlon = df['longitude'].max()\n",
        "    midlon = (maxlon + minlon)/2\n",
        "\n",
        "    q1 = df[(df['latitude'] > midlat) & (df['latitude'] <= maxlat) & (df['longitude'] >= minlon) & (df['longitude'] < midlon)]\n",
        "    q2 = df[(df['latitude'] > midlat) & (df['latitude'] <= maxlat) & (df['longitude'] >= midlon) & (df['longitude'] <= maxlon)]\n",
        "\n",
        "    q3 = df[(df['latitude'] >= minlat) & (df['latitude'] <= midlat) & (df['longitude'] >= minlon) & (df['longitude'] < midlon)]\n",
        "    q4 = df[(df['latitude'] >= minlat) & (df['latitude'] <= midlat) & (df['longitude'] >= midlon) & (df['longitude'] <= maxlon)]\n",
        "\n",
        "    return [q1, q2, q3, q4]"
      ]
    },
    {
      "cell_type": "code",
      "execution_count": null,
      "metadata": {
        "id": "nIK85m7M707t"
      },
      "outputs": [],
      "source": [
        "locsl = quarters(locs)\n",
        "mplocsl = quarters(mplocs)"
      ]
    },
    {
      "cell_type": "code",
      "execution_count": null,
      "metadata": {
        "id": "en9psk-4SFL7"
      },
      "outputs": [],
      "source": [
        "def dist(lat1, long1, lat2, long2):\n",
        "\n",
        "    # Convert decimal degrees to radians \n",
        "    lat1, long1, lat2, long2 = map(radians, [lat1, long1, lat2, long2])\n",
        "    # Haversine formula \n",
        "    dlon = long2 - long1 \n",
        "    dlat = lat2 - lat1 \n",
        "    a = sin(dlat/2)**2 + cos(lat1) * cos(lat2) * sin(dlon/2)**2\n",
        "    c = 2 * asin(sqrt(a)) \n",
        "    # Radius of earth in kilometers is 6371\n",
        "    km = 6371* c\n",
        "    return km"
      ]
    },
    {
      "cell_type": "code",
      "execution_count": null,
      "metadata": {
        "id": "N9v92AeOSOSj"
      },
      "outputs": [],
      "source": [
        "def find_nearest(dfm, lat, long):\n",
        "    distances = dfm.apply(lambda row: dist(lat, long, row['latitude'], row['longitude']), axis=1)\n",
        "    return dfm.loc[distances.idxmin(), 'id']"
      ]
    },
    {
      "cell_type": "code",
      "execution_count": null,
      "metadata": {
        "colab": {
          "base_uri": "https://localhost:8080/"
        },
        "id": "0xiebGxBLjHG",
        "outputId": "97b97083-561c-45dd-8c35-7f363f5c0eca"
      },
      "outputs": [
        {
          "output_type": "stream",
          "name": "stdout",
          "text": [
            "0\n"
          ]
        },
        {
          "output_type": "stream",
          "name": "stderr",
          "text": [
            "/usr/local/lib/python3.7/dist-packages/ipykernel_launcher.py:3: SettingWithCopyWarning: \n",
            "A value is trying to be set on a copy of a slice from a DataFrame.\n",
            "Try using .loc[row_indexer,col_indexer] = value instead\n",
            "\n",
            "See the caveats in the documentation: https://pandas.pydata.org/pandas-docs/stable/user_guide/indexing.html#returning-a-view-versus-a-copy\n",
            "  This is separate from the ipykernel package so we can avoid doing imports until\n"
          ]
        },
        {
          "output_type": "stream",
          "name": "stdout",
          "text": [
            "1\n",
            "2\n",
            "3\n"
          ]
        }
      ],
      "source": [
        "for idx, jj in enumerate(locsl):\n",
        "    print(idx)\n",
        "    locsl[idx]['id2'] = locsl[idx].apply(lambda row: find_nearest(mplocsl[idx], row['latitude'], row['longitude']), axis=1)\n",
        "\n",
        "newlocs = pd.concat(locsl, ignore_index=True)"
      ]
    },
    {
      "cell_type": "code",
      "execution_count": null,
      "metadata": {
        "id": "ZuRHRagNW85i"
      },
      "outputs": [],
      "source": [
        "newlocs.to_csv(fp + \"newlocs.csv\")"
      ]
    },
    {
      "cell_type": "code",
      "execution_count": null,
      "metadata": {
        "id": "zqIb1ZZCXbY4"
      },
      "outputs": [],
      "source": [
        "mplocs = pd.read_csv(fp + \"tmin_locs.csv\")\n",
        "newlocs = pd.read_csv(fp + \"newlocs.csv\")"
      ]
    },
    {
      "cell_type": "code",
      "execution_count": null,
      "metadata": {
        "colab": {
          "base_uri": "https://localhost:8080/"
        },
        "id": "CBsz1E_RRmSb",
        "outputId": "46208b55-bbc1-497b-cee4-fe5dd8cbb550"
      },
      "outputs": [
        {
          "output_type": "execute_result",
          "data": {
            "text/plain": [
              "Empty DataFrame\n",
              "Columns: [null_names, null_counts, null_proportion, null_dtypes]\n",
              "Index: []"
            ],
            "text/html": [
              "\n",
              "  <div id=\"df-ee262e30-4abc-419c-863f-8f3916269848\">\n",
              "    <div class=\"colab-df-container\">\n",
              "      <div>\n",
              "<style scoped>\n",
              "    .dataframe tbody tr th:only-of-type {\n",
              "        vertical-align: middle;\n",
              "    }\n",
              "\n",
              "    .dataframe tbody tr th {\n",
              "        vertical-align: top;\n",
              "    }\n",
              "\n",
              "    .dataframe thead th {\n",
              "        text-align: right;\n",
              "    }\n",
              "</style>\n",
              "<table border=\"1\" class=\"dataframe\">\n",
              "  <thead>\n",
              "    <tr style=\"text-align: right;\">\n",
              "      <th></th>\n",
              "      <th>null_names</th>\n",
              "      <th>null_counts</th>\n",
              "      <th>null_proportion</th>\n",
              "      <th>null_dtypes</th>\n",
              "    </tr>\n",
              "  </thead>\n",
              "  <tbody>\n",
              "  </tbody>\n",
              "</table>\n",
              "</div>\n",
              "      <button class=\"colab-df-convert\" onclick=\"convertToInteractive('df-ee262e30-4abc-419c-863f-8f3916269848')\"\n",
              "              title=\"Convert this dataframe to an interactive table.\"\n",
              "              style=\"display:none;\">\n",
              "        \n",
              "  <svg xmlns=\"http://www.w3.org/2000/svg\" height=\"24px\"viewBox=\"0 0 24 24\"\n",
              "       width=\"24px\">\n",
              "    <path d=\"M0 0h24v24H0V0z\" fill=\"none\"/>\n",
              "    <path d=\"M18.56 5.44l.94 2.06.94-2.06 2.06-.94-2.06-.94-.94-2.06-.94 2.06-2.06.94zm-11 1L8.5 8.5l.94-2.06 2.06-.94-2.06-.94L8.5 2.5l-.94 2.06-2.06.94zm10 10l.94 2.06.94-2.06 2.06-.94-2.06-.94-.94-2.06-.94 2.06-2.06.94z\"/><path d=\"M17.41 7.96l-1.37-1.37c-.4-.4-.92-.59-1.43-.59-.52 0-1.04.2-1.43.59L10.3 9.45l-7.72 7.72c-.78.78-.78 2.05 0 2.83L4 21.41c.39.39.9.59 1.41.59.51 0 1.02-.2 1.41-.59l7.78-7.78 2.81-2.81c.8-.78.8-2.07 0-2.86zM5.41 20L4 18.59l7.72-7.72 1.47 1.35L5.41 20z\"/>\n",
              "  </svg>\n",
              "      </button>\n",
              "      \n",
              "  <style>\n",
              "    .colab-df-container {\n",
              "      display:flex;\n",
              "      flex-wrap:wrap;\n",
              "      gap: 12px;\n",
              "    }\n",
              "\n",
              "    .colab-df-convert {\n",
              "      background-color: #E8F0FE;\n",
              "      border: none;\n",
              "      border-radius: 50%;\n",
              "      cursor: pointer;\n",
              "      display: none;\n",
              "      fill: #1967D2;\n",
              "      height: 32px;\n",
              "      padding: 0 0 0 0;\n",
              "      width: 32px;\n",
              "    }\n",
              "\n",
              "    .colab-df-convert:hover {\n",
              "      background-color: #E2EBFA;\n",
              "      box-shadow: 0px 1px 2px rgba(60, 64, 67, 0.3), 0px 1px 3px 1px rgba(60, 64, 67, 0.15);\n",
              "      fill: #174EA6;\n",
              "    }\n",
              "\n",
              "    [theme=dark] .colab-df-convert {\n",
              "      background-color: #3B4455;\n",
              "      fill: #D2E3FC;\n",
              "    }\n",
              "\n",
              "    [theme=dark] .colab-df-convert:hover {\n",
              "      background-color: #434B5C;\n",
              "      box-shadow: 0px 1px 3px 1px rgba(0, 0, 0, 0.15);\n",
              "      filter: drop-shadow(0px 1px 2px rgba(0, 0, 0, 0.3));\n",
              "      fill: #FFFFFF;\n",
              "    }\n",
              "  </style>\n",
              "\n",
              "      <script>\n",
              "        const buttonEl =\n",
              "          document.querySelector('#df-ee262e30-4abc-419c-863f-8f3916269848 button.colab-df-convert');\n",
              "        buttonEl.style.display =\n",
              "          google.colab.kernel.accessAllowed ? 'block' : 'none';\n",
              "\n",
              "        async function convertToInteractive(key) {\n",
              "          const element = document.querySelector('#df-ee262e30-4abc-419c-863f-8f3916269848');\n",
              "          const dataTable =\n",
              "            await google.colab.kernel.invokeFunction('convertToInteractive',\n",
              "                                                     [key], {});\n",
              "          if (!dataTable) return;\n",
              "\n",
              "          const docLinkHtml = 'Like what you see? Visit the ' +\n",
              "            '<a target=\"_blank\" href=https://colab.research.google.com/notebooks/data_table.ipynb>data table notebook</a>'\n",
              "            + ' to learn more about interactive tables.';\n",
              "          element.innerHTML = '';\n",
              "          dataTable['output_type'] = 'display_data';\n",
              "          await google.colab.output.renderOutput(dataTable, element);\n",
              "          const docLink = document.createElement('div');\n",
              "          docLink.innerHTML = docLinkHtml;\n",
              "          element.appendChild(docLink);\n",
              "        }\n",
              "      </script>\n",
              "    </div>\n",
              "  </div>\n",
              "  "
            ]
          },
          "metadata": {},
          "execution_count": 19
        }
      ],
      "source": [
        "null_summary(newlocs)"
      ]
    },
    {
      "cell_type": "markdown",
      "metadata": {
        "id": "lF2hInIhNEs1"
      },
      "source": [
        "##Merge the mapped locations into the pfw df"
      ]
    },
    {
      "cell_type": "code",
      "execution_count": null,
      "metadata": {
        "id": "CVqkaZp6cFLD"
      },
      "outputs": [],
      "source": [
        "mplocs = mplocs.rename(columns={'id': 'id2'})\n",
        "mplocs = mplocs.rename(columns={'latitude': 'newlat'})\n",
        "mplocs = mplocs.rename(columns={'longitude': 'newlon'})"
      ]
    },
    {
      "cell_type": "code",
      "execution_count": null,
      "metadata": {
        "id": "w9lvZCuOb740"
      },
      "outputs": [],
      "source": [
        "wthr = newlocs.merge(mplocs, how='left', on=['id2'])"
      ]
    },
    {
      "cell_type": "code",
      "execution_count": null,
      "metadata": {
        "id": "poBfzD29oENL"
      },
      "outputs": [],
      "source": [
        "pfw_tmin = pfw_prepped.merge(wthr[['latitude', 'longitude', 'newlat', 'newlon']], how='left', on=['latitude', 'longitude'])"
      ]
    },
    {
      "cell_type": "code",
      "execution_count": null,
      "metadata": {
        "colab": {
          "base_uri": "https://localhost:8080/"
        },
        "id": "dqM5WE2E_pOL",
        "outputId": "eccff4dc-884d-4f24-cda5-44333b94f49d"
      },
      "outputs": [
        {
          "output_type": "execute_result",
          "data": {
            "text/plain": [
              "[2015, 2016, 2017, 2018, 2019, 2020, 2021]"
            ]
          },
          "metadata": {},
          "execution_count": 23
        }
      ],
      "source": [
        "# Set the years to do the next merges in chunks by year\n",
        "ystart = 2015\n",
        "yend = 2021\n",
        "years = list(np.arange(ystart, yend+1, 1))\n",
        "years"
      ]
    },
    {
      "cell_type": "markdown",
      "metadata": {
        "id": "cvY_LMd75EV7"
      },
      "source": [
        "##Tmin"
      ]
    },
    {
      "cell_type": "code",
      "execution_count": null,
      "metadata": {
        "id": "ozqtikQxN_Ch"
      },
      "outputs": [],
      "source": [
        "tmin = tmin.rename(columns={'latitude': 'newlat'})\n",
        "tmin = tmin.rename(columns={'longitude': 'newlon'})\n",
        "tmin = tmin.rename(columns={'mint': 'tmin'})"
      ]
    },
    {
      "cell_type": "code",
      "execution_count": null,
      "metadata": {
        "id": "TmV82Ni9Vphf"
      },
      "outputs": [],
      "source": [
        "fn = 'pfw_tmin.csv'"
      ]
    },
    {
      "cell_type": "code",
      "execution_count": null,
      "metadata": {
        "id": "ZrO9_Yu3AWDZ"
      },
      "outputs": [],
      "source": [
        "wthr = tmin\n",
        "elem = 'tmin'\n",
        "bb = pfw_tmin\n",
        "\n",
        "year = years[0]\n",
        "wthryear = wthr[wthr['year'] == year]\n",
        "byear = bb[bb['year'] == year]\n",
        "merg = byear.merge(wthryear[['newlat', 'newlon', 'month', 'day', 'year', elem]],\n",
        "                how='left', on=['newlat', 'newlon', 'month', 'day', 'year'])\n",
        "  \n",
        "for year in years[1:]:\n",
        "    wthryear = wthr[wthr['year'] == year]\n",
        "    byear = bb[bb['year'] == year]\n",
        "    df = byear.merge(wthryear[['newlat', 'newlon', 'month', 'day', 'year', elem]],\n",
        "                    how='left', on=['newlat', 'newlon', 'month', 'day', 'year'])\n",
        "    merg = pd.concat([merg, df], ignore_index=True)\n",
        "\n",
        "merg.to_csv(fp + fn)"
      ]
    },
    {
      "cell_type": "code",
      "execution_count": null,
      "metadata": {
        "id": "FF0Ee7V7AWDa",
        "colab": {
          "base_uri": "https://localhost:8080/"
        },
        "outputId": "5bc8ef92-1bea-49f0-dc8d-d474b4df0c9d"
      },
      "outputs": [
        {
          "output_type": "execute_result",
          "data": {
            "text/plain": [
              "Empty DataFrame\n",
              "Columns: [null_names, null_counts, null_proportion, null_dtypes]\n",
              "Index: []"
            ],
            "text/html": [
              "\n",
              "  <div id=\"df-9f86c71b-7d35-4aa2-9417-378ee6165bfa\">\n",
              "    <div class=\"colab-df-container\">\n",
              "      <div>\n",
              "<style scoped>\n",
              "    .dataframe tbody tr th:only-of-type {\n",
              "        vertical-align: middle;\n",
              "    }\n",
              "\n",
              "    .dataframe tbody tr th {\n",
              "        vertical-align: top;\n",
              "    }\n",
              "\n",
              "    .dataframe thead th {\n",
              "        text-align: right;\n",
              "    }\n",
              "</style>\n",
              "<table border=\"1\" class=\"dataframe\">\n",
              "  <thead>\n",
              "    <tr style=\"text-align: right;\">\n",
              "      <th></th>\n",
              "      <th>null_names</th>\n",
              "      <th>null_counts</th>\n",
              "      <th>null_proportion</th>\n",
              "      <th>null_dtypes</th>\n",
              "    </tr>\n",
              "  </thead>\n",
              "  <tbody>\n",
              "  </tbody>\n",
              "</table>\n",
              "</div>\n",
              "      <button class=\"colab-df-convert\" onclick=\"convertToInteractive('df-9f86c71b-7d35-4aa2-9417-378ee6165bfa')\"\n",
              "              title=\"Convert this dataframe to an interactive table.\"\n",
              "              style=\"display:none;\">\n",
              "        \n",
              "  <svg xmlns=\"http://www.w3.org/2000/svg\" height=\"24px\"viewBox=\"0 0 24 24\"\n",
              "       width=\"24px\">\n",
              "    <path d=\"M0 0h24v24H0V0z\" fill=\"none\"/>\n",
              "    <path d=\"M18.56 5.44l.94 2.06.94-2.06 2.06-.94-2.06-.94-.94-2.06-.94 2.06-2.06.94zm-11 1L8.5 8.5l.94-2.06 2.06-.94-2.06-.94L8.5 2.5l-.94 2.06-2.06.94zm10 10l.94 2.06.94-2.06 2.06-.94-2.06-.94-.94-2.06-.94 2.06-2.06.94z\"/><path d=\"M17.41 7.96l-1.37-1.37c-.4-.4-.92-.59-1.43-.59-.52 0-1.04.2-1.43.59L10.3 9.45l-7.72 7.72c-.78.78-.78 2.05 0 2.83L4 21.41c.39.39.9.59 1.41.59.51 0 1.02-.2 1.41-.59l7.78-7.78 2.81-2.81c.8-.78.8-2.07 0-2.86zM5.41 20L4 18.59l7.72-7.72 1.47 1.35L5.41 20z\"/>\n",
              "  </svg>\n",
              "      </button>\n",
              "      \n",
              "  <style>\n",
              "    .colab-df-container {\n",
              "      display:flex;\n",
              "      flex-wrap:wrap;\n",
              "      gap: 12px;\n",
              "    }\n",
              "\n",
              "    .colab-df-convert {\n",
              "      background-color: #E8F0FE;\n",
              "      border: none;\n",
              "      border-radius: 50%;\n",
              "      cursor: pointer;\n",
              "      display: none;\n",
              "      fill: #1967D2;\n",
              "      height: 32px;\n",
              "      padding: 0 0 0 0;\n",
              "      width: 32px;\n",
              "    }\n",
              "\n",
              "    .colab-df-convert:hover {\n",
              "      background-color: #E2EBFA;\n",
              "      box-shadow: 0px 1px 2px rgba(60, 64, 67, 0.3), 0px 1px 3px 1px rgba(60, 64, 67, 0.15);\n",
              "      fill: #174EA6;\n",
              "    }\n",
              "\n",
              "    [theme=dark] .colab-df-convert {\n",
              "      background-color: #3B4455;\n",
              "      fill: #D2E3FC;\n",
              "    }\n",
              "\n",
              "    [theme=dark] .colab-df-convert:hover {\n",
              "      background-color: #434B5C;\n",
              "      box-shadow: 0px 1px 3px 1px rgba(0, 0, 0, 0.15);\n",
              "      filter: drop-shadow(0px 1px 2px rgba(0, 0, 0, 0.3));\n",
              "      fill: #FFFFFF;\n",
              "    }\n",
              "  </style>\n",
              "\n",
              "      <script>\n",
              "        const buttonEl =\n",
              "          document.querySelector('#df-9f86c71b-7d35-4aa2-9417-378ee6165bfa button.colab-df-convert');\n",
              "        buttonEl.style.display =\n",
              "          google.colab.kernel.accessAllowed ? 'block' : 'none';\n",
              "\n",
              "        async function convertToInteractive(key) {\n",
              "          const element = document.querySelector('#df-9f86c71b-7d35-4aa2-9417-378ee6165bfa');\n",
              "          const dataTable =\n",
              "            await google.colab.kernel.invokeFunction('convertToInteractive',\n",
              "                                                     [key], {});\n",
              "          if (!dataTable) return;\n",
              "\n",
              "          const docLinkHtml = 'Like what you see? Visit the ' +\n",
              "            '<a target=\"_blank\" href=https://colab.research.google.com/notebooks/data_table.ipynb>data table notebook</a>'\n",
              "            + ' to learn more about interactive tables.';\n",
              "          element.innerHTML = '';\n",
              "          dataTable['output_type'] = 'display_data';\n",
              "          await google.colab.output.renderOutput(dataTable, element);\n",
              "          const docLink = document.createElement('div');\n",
              "          docLink.innerHTML = docLinkHtml;\n",
              "          element.appendChild(docLink);\n",
              "        }\n",
              "      </script>\n",
              "    </div>\n",
              "  </div>\n",
              "  "
            ]
          },
          "metadata": {},
          "execution_count": 27
        }
      ],
      "source": [
        "null_summary(merg)"
      ]
    },
    {
      "cell_type": "markdown",
      "metadata": {
        "id": "CJe7ho4H5G6D"
      },
      "source": [
        "##Tmax"
      ]
    },
    {
      "cell_type": "code",
      "execution_count": null,
      "metadata": {
        "id": "e7iM4qfmWOyh"
      },
      "outputs": [],
      "source": [
        "pfw_both_t = pd.read_csv(fp + fn)"
      ]
    },
    {
      "cell_type": "code",
      "execution_count": null,
      "metadata": {
        "id": "x2mnek_2r_r8"
      },
      "outputs": [],
      "source": [
        "tmax = pd.read_csv(fp + \"tmax.csv\")"
      ]
    },
    {
      "cell_type": "code",
      "execution_count": null,
      "metadata": {
        "id": "2TIQcEGmOf4S"
      },
      "outputs": [],
      "source": [
        "tmax = tmax.rename(columns={'latitude': 'newlat'})\n",
        "tmax = tmax.rename(columns={'longitude': 'newlon'})\n",
        "tmax = tmax.rename(columns={'maxt': 'tmax'})"
      ]
    },
    {
      "cell_type": "code",
      "execution_count": null,
      "metadata": {
        "id": "kBO-fOfkVwV_"
      },
      "outputs": [],
      "source": [
        "fn = 'pfw_tmin_tmax.csv'"
      ]
    },
    {
      "cell_type": "code",
      "execution_count": null,
      "metadata": {
        "id": "1R97N-yDDnGH"
      },
      "outputs": [],
      "source": [
        "wthr = tmax\n",
        "elem = 'tmax'\n",
        "bb = pfw_both_t\n",
        "\n",
        "year = years[0]\n",
        "wthryear = wthr[wthr['year'] == year]\n",
        "byear = bb[bb['year'] == year]\n",
        "merg = byear.merge(wthryear[['newlat', 'newlon', 'month', 'day', 'year', elem]],\n",
        "                how='left', on=['newlat', 'newlon', 'month', 'day', 'year'])\n",
        "  \n",
        "for year in years[1:]:\n",
        "    wthryear = wthr[wthr['year'] == year]\n",
        "    byear = bb[bb['year'] == year]\n",
        "    df = byear.merge(wthryear[['newlat', 'newlon', 'month', 'day', 'year', elem]],\n",
        "                    how='left', on=['newlat', 'newlon', 'month', 'day', 'year'])\n",
        "    merg = pd.concat([merg, df], ignore_index=True)\n",
        "\n",
        "merg.to_csv(fp + fn)"
      ]
    },
    {
      "cell_type": "code",
      "execution_count": null,
      "metadata": {
        "id": "ST1a2tFEDnGI",
        "colab": {
          "base_uri": "https://localhost:8080/"
        },
        "outputId": "67e3843e-0828-4197-fcd5-1e98087ef88c"
      },
      "outputs": [
        {
          "output_type": "execute_result",
          "data": {
            "text/plain": [
              "Empty DataFrame\n",
              "Columns: [null_names, null_counts, null_proportion, null_dtypes]\n",
              "Index: []"
            ],
            "text/html": [
              "\n",
              "  <div id=\"df-0fe23640-15c4-48c4-9b63-d5310b132a20\">\n",
              "    <div class=\"colab-df-container\">\n",
              "      <div>\n",
              "<style scoped>\n",
              "    .dataframe tbody tr th:only-of-type {\n",
              "        vertical-align: middle;\n",
              "    }\n",
              "\n",
              "    .dataframe tbody tr th {\n",
              "        vertical-align: top;\n",
              "    }\n",
              "\n",
              "    .dataframe thead th {\n",
              "        text-align: right;\n",
              "    }\n",
              "</style>\n",
              "<table border=\"1\" class=\"dataframe\">\n",
              "  <thead>\n",
              "    <tr style=\"text-align: right;\">\n",
              "      <th></th>\n",
              "      <th>null_names</th>\n",
              "      <th>null_counts</th>\n",
              "      <th>null_proportion</th>\n",
              "      <th>null_dtypes</th>\n",
              "    </tr>\n",
              "  </thead>\n",
              "  <tbody>\n",
              "  </tbody>\n",
              "</table>\n",
              "</div>\n",
              "      <button class=\"colab-df-convert\" onclick=\"convertToInteractive('df-0fe23640-15c4-48c4-9b63-d5310b132a20')\"\n",
              "              title=\"Convert this dataframe to an interactive table.\"\n",
              "              style=\"display:none;\">\n",
              "        \n",
              "  <svg xmlns=\"http://www.w3.org/2000/svg\" height=\"24px\"viewBox=\"0 0 24 24\"\n",
              "       width=\"24px\">\n",
              "    <path d=\"M0 0h24v24H0V0z\" fill=\"none\"/>\n",
              "    <path d=\"M18.56 5.44l.94 2.06.94-2.06 2.06-.94-2.06-.94-.94-2.06-.94 2.06-2.06.94zm-11 1L8.5 8.5l.94-2.06 2.06-.94-2.06-.94L8.5 2.5l-.94 2.06-2.06.94zm10 10l.94 2.06.94-2.06 2.06-.94-2.06-.94-.94-2.06-.94 2.06-2.06.94z\"/><path d=\"M17.41 7.96l-1.37-1.37c-.4-.4-.92-.59-1.43-.59-.52 0-1.04.2-1.43.59L10.3 9.45l-7.72 7.72c-.78.78-.78 2.05 0 2.83L4 21.41c.39.39.9.59 1.41.59.51 0 1.02-.2 1.41-.59l7.78-7.78 2.81-2.81c.8-.78.8-2.07 0-2.86zM5.41 20L4 18.59l7.72-7.72 1.47 1.35L5.41 20z\"/>\n",
              "  </svg>\n",
              "      </button>\n",
              "      \n",
              "  <style>\n",
              "    .colab-df-container {\n",
              "      display:flex;\n",
              "      flex-wrap:wrap;\n",
              "      gap: 12px;\n",
              "    }\n",
              "\n",
              "    .colab-df-convert {\n",
              "      background-color: #E8F0FE;\n",
              "      border: none;\n",
              "      border-radius: 50%;\n",
              "      cursor: pointer;\n",
              "      display: none;\n",
              "      fill: #1967D2;\n",
              "      height: 32px;\n",
              "      padding: 0 0 0 0;\n",
              "      width: 32px;\n",
              "    }\n",
              "\n",
              "    .colab-df-convert:hover {\n",
              "      background-color: #E2EBFA;\n",
              "      box-shadow: 0px 1px 2px rgba(60, 64, 67, 0.3), 0px 1px 3px 1px rgba(60, 64, 67, 0.15);\n",
              "      fill: #174EA6;\n",
              "    }\n",
              "\n",
              "    [theme=dark] .colab-df-convert {\n",
              "      background-color: #3B4455;\n",
              "      fill: #D2E3FC;\n",
              "    }\n",
              "\n",
              "    [theme=dark] .colab-df-convert:hover {\n",
              "      background-color: #434B5C;\n",
              "      box-shadow: 0px 1px 3px 1px rgba(0, 0, 0, 0.15);\n",
              "      filter: drop-shadow(0px 1px 2px rgba(0, 0, 0, 0.3));\n",
              "      fill: #FFFFFF;\n",
              "    }\n",
              "  </style>\n",
              "\n",
              "      <script>\n",
              "        const buttonEl =\n",
              "          document.querySelector('#df-0fe23640-15c4-48c4-9b63-d5310b132a20 button.colab-df-convert');\n",
              "        buttonEl.style.display =\n",
              "          google.colab.kernel.accessAllowed ? 'block' : 'none';\n",
              "\n",
              "        async function convertToInteractive(key) {\n",
              "          const element = document.querySelector('#df-0fe23640-15c4-48c4-9b63-d5310b132a20');\n",
              "          const dataTable =\n",
              "            await google.colab.kernel.invokeFunction('convertToInteractive',\n",
              "                                                     [key], {});\n",
              "          if (!dataTable) return;\n",
              "\n",
              "          const docLinkHtml = 'Like what you see? Visit the ' +\n",
              "            '<a target=\"_blank\" href=https://colab.research.google.com/notebooks/data_table.ipynb>data table notebook</a>'\n",
              "            + ' to learn more about interactive tables.';\n",
              "          element.innerHTML = '';\n",
              "          dataTable['output_type'] = 'display_data';\n",
              "          await google.colab.output.renderOutput(dataTable, element);\n",
              "          const docLink = document.createElement('div');\n",
              "          docLink.innerHTML = docLinkHtml;\n",
              "          element.appendChild(docLink);\n",
              "        }\n",
              "      </script>\n",
              "    </div>\n",
              "  </div>\n",
              "  "
            ]
          },
          "metadata": {},
          "execution_count": 33
        }
      ],
      "source": [
        "null_summary(merg)"
      ]
    },
    {
      "cell_type": "markdown",
      "metadata": {
        "id": "wkgnJoYd5YBi"
      },
      "source": [
        "##Precipitation"
      ]
    },
    {
      "cell_type": "code",
      "execution_count": null,
      "metadata": {
        "id": "_fstODLCWDHD"
      },
      "outputs": [],
      "source": [
        "pfw_wthr = pd.read_csv(fp + fn)"
      ]
    },
    {
      "cell_type": "code",
      "execution_count": null,
      "metadata": {
        "id": "ZvIvEnQE6RzX"
      },
      "outputs": [],
      "source": [
        "pcpn = pd.read_csv(fp + \"pcpn.csv\")"
      ]
    },
    {
      "cell_type": "code",
      "execution_count": null,
      "metadata": {
        "id": "ZcedoFylwZon"
      },
      "outputs": [],
      "source": [
        "pcpn = pcpn.rename(columns={'latitude': 'newlat'})\n",
        "pcpn = pcpn.rename(columns={'longitude': 'newlon'})"
      ]
    },
    {
      "cell_type": "code",
      "execution_count": null,
      "metadata": {
        "id": "-h1INqGdV3i5"
      },
      "outputs": [],
      "source": [
        "fn = 'pfw_tmin_tmax_pcpn.csv'"
      ]
    },
    {
      "cell_type": "code",
      "execution_count": null,
      "metadata": {
        "id": "rawyzwT4E9gn"
      },
      "outputs": [],
      "source": [
        "wthr = pcpn\n",
        "elem = 'pcpn'\n",
        "bb = pfw_wthr\n",
        "\n",
        "year = years[0]\n",
        "wthryear = wthr[wthr['year'] == year]\n",
        "byear = bb[bb['year'] == year]\n",
        "merg = byear.merge(wthryear[['newlat', 'newlon', 'month', 'day', 'year', elem]],\n",
        "                how='left', on=['newlat', 'newlon', 'month', 'day', 'year'])\n",
        "  \n",
        "for year in years[1:]:\n",
        "    wthryear = wthr[wthr['year'] == year]\n",
        "    byear = bb[bb['year'] == year]\n",
        "    df = byear.merge(wthryear[['newlat', 'newlon', 'month', 'day', 'year', elem]],\n",
        "                    how='left', on=['newlat', 'newlon', 'month', 'day', 'year'])\n",
        "    merg = pd.concat([merg, df], ignore_index=True)\n",
        "\n",
        "merg.to_csv(fp + fn)"
      ]
    },
    {
      "cell_type": "code",
      "execution_count": null,
      "metadata": {
        "id": "aQ4QEXT3E9go",
        "colab": {
          "base_uri": "https://localhost:8080/"
        },
        "outputId": "7b5c22d2-9670-4924-b597-de5f13c9f217"
      },
      "outputs": [
        {
          "output_type": "execute_result",
          "data": {
            "text/plain": [
              "Empty DataFrame\n",
              "Columns: [null_names, null_counts, null_proportion, null_dtypes]\n",
              "Index: []"
            ],
            "text/html": [
              "\n",
              "  <div id=\"df-d144b3ad-a639-4f7b-aece-d3ecb342e223\">\n",
              "    <div class=\"colab-df-container\">\n",
              "      <div>\n",
              "<style scoped>\n",
              "    .dataframe tbody tr th:only-of-type {\n",
              "        vertical-align: middle;\n",
              "    }\n",
              "\n",
              "    .dataframe tbody tr th {\n",
              "        vertical-align: top;\n",
              "    }\n",
              "\n",
              "    .dataframe thead th {\n",
              "        text-align: right;\n",
              "    }\n",
              "</style>\n",
              "<table border=\"1\" class=\"dataframe\">\n",
              "  <thead>\n",
              "    <tr style=\"text-align: right;\">\n",
              "      <th></th>\n",
              "      <th>null_names</th>\n",
              "      <th>null_counts</th>\n",
              "      <th>null_proportion</th>\n",
              "      <th>null_dtypes</th>\n",
              "    </tr>\n",
              "  </thead>\n",
              "  <tbody>\n",
              "  </tbody>\n",
              "</table>\n",
              "</div>\n",
              "      <button class=\"colab-df-convert\" onclick=\"convertToInteractive('df-d144b3ad-a639-4f7b-aece-d3ecb342e223')\"\n",
              "              title=\"Convert this dataframe to an interactive table.\"\n",
              "              style=\"display:none;\">\n",
              "        \n",
              "  <svg xmlns=\"http://www.w3.org/2000/svg\" height=\"24px\"viewBox=\"0 0 24 24\"\n",
              "       width=\"24px\">\n",
              "    <path d=\"M0 0h24v24H0V0z\" fill=\"none\"/>\n",
              "    <path d=\"M18.56 5.44l.94 2.06.94-2.06 2.06-.94-2.06-.94-.94-2.06-.94 2.06-2.06.94zm-11 1L8.5 8.5l.94-2.06 2.06-.94-2.06-.94L8.5 2.5l-.94 2.06-2.06.94zm10 10l.94 2.06.94-2.06 2.06-.94-2.06-.94-.94-2.06-.94 2.06-2.06.94z\"/><path d=\"M17.41 7.96l-1.37-1.37c-.4-.4-.92-.59-1.43-.59-.52 0-1.04.2-1.43.59L10.3 9.45l-7.72 7.72c-.78.78-.78 2.05 0 2.83L4 21.41c.39.39.9.59 1.41.59.51 0 1.02-.2 1.41-.59l7.78-7.78 2.81-2.81c.8-.78.8-2.07 0-2.86zM5.41 20L4 18.59l7.72-7.72 1.47 1.35L5.41 20z\"/>\n",
              "  </svg>\n",
              "      </button>\n",
              "      \n",
              "  <style>\n",
              "    .colab-df-container {\n",
              "      display:flex;\n",
              "      flex-wrap:wrap;\n",
              "      gap: 12px;\n",
              "    }\n",
              "\n",
              "    .colab-df-convert {\n",
              "      background-color: #E8F0FE;\n",
              "      border: none;\n",
              "      border-radius: 50%;\n",
              "      cursor: pointer;\n",
              "      display: none;\n",
              "      fill: #1967D2;\n",
              "      height: 32px;\n",
              "      padding: 0 0 0 0;\n",
              "      width: 32px;\n",
              "    }\n",
              "\n",
              "    .colab-df-convert:hover {\n",
              "      background-color: #E2EBFA;\n",
              "      box-shadow: 0px 1px 2px rgba(60, 64, 67, 0.3), 0px 1px 3px 1px rgba(60, 64, 67, 0.15);\n",
              "      fill: #174EA6;\n",
              "    }\n",
              "\n",
              "    [theme=dark] .colab-df-convert {\n",
              "      background-color: #3B4455;\n",
              "      fill: #D2E3FC;\n",
              "    }\n",
              "\n",
              "    [theme=dark] .colab-df-convert:hover {\n",
              "      background-color: #434B5C;\n",
              "      box-shadow: 0px 1px 3px 1px rgba(0, 0, 0, 0.15);\n",
              "      filter: drop-shadow(0px 1px 2px rgba(0, 0, 0, 0.3));\n",
              "      fill: #FFFFFF;\n",
              "    }\n",
              "  </style>\n",
              "\n",
              "      <script>\n",
              "        const buttonEl =\n",
              "          document.querySelector('#df-d144b3ad-a639-4f7b-aece-d3ecb342e223 button.colab-df-convert');\n",
              "        buttonEl.style.display =\n",
              "          google.colab.kernel.accessAllowed ? 'block' : 'none';\n",
              "\n",
              "        async function convertToInteractive(key) {\n",
              "          const element = document.querySelector('#df-d144b3ad-a639-4f7b-aece-d3ecb342e223');\n",
              "          const dataTable =\n",
              "            await google.colab.kernel.invokeFunction('convertToInteractive',\n",
              "                                                     [key], {});\n",
              "          if (!dataTable) return;\n",
              "\n",
              "          const docLinkHtml = 'Like what you see? Visit the ' +\n",
              "            '<a target=\"_blank\" href=https://colab.research.google.com/notebooks/data_table.ipynb>data table notebook</a>'\n",
              "            + ' to learn more about interactive tables.';\n",
              "          element.innerHTML = '';\n",
              "          dataTable['output_type'] = 'display_data';\n",
              "          await google.colab.output.renderOutput(dataTable, element);\n",
              "          const docLink = document.createElement('div');\n",
              "          docLink.innerHTML = docLinkHtml;\n",
              "          element.appendChild(docLink);\n",
              "        }\n",
              "      </script>\n",
              "    </div>\n",
              "  </div>\n",
              "  "
            ]
          },
          "metadata": {},
          "execution_count": 39
        }
      ],
      "source": [
        "null_summary(merg)"
      ]
    },
    {
      "cell_type": "markdown",
      "metadata": {
        "id": "AIJPwIIZ5yZi"
      },
      "source": [
        "##Merge with population and rural-urban data"
      ]
    },
    {
      "cell_type": "code",
      "execution_count": null,
      "metadata": {
        "id": "dj1nzfvWFj74"
      },
      "outputs": [],
      "source": [
        "pfw_wpru = pd.read_csv(fp + fn)"
      ]
    },
    {
      "cell_type": "markdown",
      "metadata": {
        "id": "HHYn1d3K4Shx"
      },
      "source": [
        "Remove the extra columns originating from the merges, and remove the pfw columns that are redundant with the newly aggregated population and rural-urban data."
      ]
    },
    {
      "cell_type": "code",
      "execution_count": null,
      "metadata": {
        "id": "Le0CCyPn3-qk"
      },
      "outputs": [],
      "source": [
        "rem = ['newlat', 'newlon', 'Unnamed: 0', 'Unnamed: 0.1']\n",
        "pfw_wpru = pfw_wpru.drop(columns = rem)"
      ]
    },
    {
      "cell_type": "markdown",
      "metadata": {
        "id": "czXzaeTmzstr"
      },
      "source": [
        "Now merge with the population and rural-urban data."
      ]
    },
    {
      "cell_type": "code",
      "execution_count": null,
      "metadata": {
        "id": "RAdKD2j7z10G"
      },
      "outputs": [],
      "source": [
        "popru = pd.read_csv(\"/content/drive/MyDrive/Modules/Module_30_Capstone_4_Final_project/urban_rural_pop/urban_rural_pop.csv\")"
      ]
    },
    {
      "cell_type": "code",
      "execution_count": null,
      "metadata": {
        "id": "-OiAP2P85Src"
      },
      "outputs": [],
      "source": [
        "birdy = popru.merge(pfw_wpru[['sub_id', 'loc_id', 'latitude', 'longitude', 'tmin', 'tmax', 'pcpn']], how='left', on=['sub_id', 'loc_id', 'latitude', 'longitude'])\n",
        "birdy = birdy.drop(columns = 'Unnamed: 0')"
      ]
    },
    {
      "cell_type": "code",
      "execution_count": null,
      "metadata": {
        "colab": {
          "base_uri": "https://localhost:8080/"
        },
        "id": "DKtm9sQqavAw",
        "outputId": "e1da187f-392b-40b6-e81c-91a3ce50b87c"
      },
      "outputs": [
        {
          "output_type": "execute_result",
          "data": {
            "text/plain": [
              "Empty DataFrame\n",
              "Columns: [null_names, null_counts, null_proportion, null_dtypes]\n",
              "Index: []"
            ],
            "text/html": [
              "\n",
              "  <div id=\"df-55704d09-3f2a-4a32-9d7d-53bdc45c3134\">\n",
              "    <div class=\"colab-df-container\">\n",
              "      <div>\n",
              "<style scoped>\n",
              "    .dataframe tbody tr th:only-of-type {\n",
              "        vertical-align: middle;\n",
              "    }\n",
              "\n",
              "    .dataframe tbody tr th {\n",
              "        vertical-align: top;\n",
              "    }\n",
              "\n",
              "    .dataframe thead th {\n",
              "        text-align: right;\n",
              "    }\n",
              "</style>\n",
              "<table border=\"1\" class=\"dataframe\">\n",
              "  <thead>\n",
              "    <tr style=\"text-align: right;\">\n",
              "      <th></th>\n",
              "      <th>null_names</th>\n",
              "      <th>null_counts</th>\n",
              "      <th>null_proportion</th>\n",
              "      <th>null_dtypes</th>\n",
              "    </tr>\n",
              "  </thead>\n",
              "  <tbody>\n",
              "  </tbody>\n",
              "</table>\n",
              "</div>\n",
              "      <button class=\"colab-df-convert\" onclick=\"convertToInteractive('df-55704d09-3f2a-4a32-9d7d-53bdc45c3134')\"\n",
              "              title=\"Convert this dataframe to an interactive table.\"\n",
              "              style=\"display:none;\">\n",
              "        \n",
              "  <svg xmlns=\"http://www.w3.org/2000/svg\" height=\"24px\"viewBox=\"0 0 24 24\"\n",
              "       width=\"24px\">\n",
              "    <path d=\"M0 0h24v24H0V0z\" fill=\"none\"/>\n",
              "    <path d=\"M18.56 5.44l.94 2.06.94-2.06 2.06-.94-2.06-.94-.94-2.06-.94 2.06-2.06.94zm-11 1L8.5 8.5l.94-2.06 2.06-.94-2.06-.94L8.5 2.5l-.94 2.06-2.06.94zm10 10l.94 2.06.94-2.06 2.06-.94-2.06-.94-.94-2.06-.94 2.06-2.06.94z\"/><path d=\"M17.41 7.96l-1.37-1.37c-.4-.4-.92-.59-1.43-.59-.52 0-1.04.2-1.43.59L10.3 9.45l-7.72 7.72c-.78.78-.78 2.05 0 2.83L4 21.41c.39.39.9.59 1.41.59.51 0 1.02-.2 1.41-.59l7.78-7.78 2.81-2.81c.8-.78.8-2.07 0-2.86zM5.41 20L4 18.59l7.72-7.72 1.47 1.35L5.41 20z\"/>\n",
              "  </svg>\n",
              "      </button>\n",
              "      \n",
              "  <style>\n",
              "    .colab-df-container {\n",
              "      display:flex;\n",
              "      flex-wrap:wrap;\n",
              "      gap: 12px;\n",
              "    }\n",
              "\n",
              "    .colab-df-convert {\n",
              "      background-color: #E8F0FE;\n",
              "      border: none;\n",
              "      border-radius: 50%;\n",
              "      cursor: pointer;\n",
              "      display: none;\n",
              "      fill: #1967D2;\n",
              "      height: 32px;\n",
              "      padding: 0 0 0 0;\n",
              "      width: 32px;\n",
              "    }\n",
              "\n",
              "    .colab-df-convert:hover {\n",
              "      background-color: #E2EBFA;\n",
              "      box-shadow: 0px 1px 2px rgba(60, 64, 67, 0.3), 0px 1px 3px 1px rgba(60, 64, 67, 0.15);\n",
              "      fill: #174EA6;\n",
              "    }\n",
              "\n",
              "    [theme=dark] .colab-df-convert {\n",
              "      background-color: #3B4455;\n",
              "      fill: #D2E3FC;\n",
              "    }\n",
              "\n",
              "    [theme=dark] .colab-df-convert:hover {\n",
              "      background-color: #434B5C;\n",
              "      box-shadow: 0px 1px 3px 1px rgba(0, 0, 0, 0.15);\n",
              "      filter: drop-shadow(0px 1px 2px rgba(0, 0, 0, 0.3));\n",
              "      fill: #FFFFFF;\n",
              "    }\n",
              "  </style>\n",
              "\n",
              "      <script>\n",
              "        const buttonEl =\n",
              "          document.querySelector('#df-55704d09-3f2a-4a32-9d7d-53bdc45c3134 button.colab-df-convert');\n",
              "        buttonEl.style.display =\n",
              "          google.colab.kernel.accessAllowed ? 'block' : 'none';\n",
              "\n",
              "        async function convertToInteractive(key) {\n",
              "          const element = document.querySelector('#df-55704d09-3f2a-4a32-9d7d-53bdc45c3134');\n",
              "          const dataTable =\n",
              "            await google.colab.kernel.invokeFunction('convertToInteractive',\n",
              "                                                     [key], {});\n",
              "          if (!dataTable) return;\n",
              "\n",
              "          const docLinkHtml = 'Like what you see? Visit the ' +\n",
              "            '<a target=\"_blank\" href=https://colab.research.google.com/notebooks/data_table.ipynb>data table notebook</a>'\n",
              "            + ' to learn more about interactive tables.';\n",
              "          element.innerHTML = '';\n",
              "          dataTable['output_type'] = 'display_data';\n",
              "          await google.colab.output.renderOutput(dataTable, element);\n",
              "          const docLink = document.createElement('div');\n",
              "          docLink.innerHTML = docLinkHtml;\n",
              "          element.appendChild(docLink);\n",
              "        }\n",
              "      </script>\n",
              "    </div>\n",
              "  </div>\n",
              "  "
            ]
          },
          "metadata": {},
          "execution_count": 44
        }
      ],
      "source": [
        "null_summary(birdy)"
      ]
    },
    {
      "cell_type": "code",
      "execution_count": null,
      "metadata": {
        "id": "OaYoCfpsblBB"
      },
      "outputs": [],
      "source": [
        "birdy = birdy.dropna()"
      ]
    },
    {
      "cell_type": "code",
      "execution_count": null,
      "metadata": {
        "colab": {
          "base_uri": "https://localhost:8080/"
        },
        "id": "GSJKAXXDbn_N",
        "outputId": "463612a5-7477-410f-d968-bc433bedae5d"
      },
      "outputs": [
        {
          "output_type": "execute_result",
          "data": {
            "text/plain": [
              "(146530, 123)"
            ]
          },
          "metadata": {},
          "execution_count": 46
        }
      ],
      "source": [
        "birdy.shape"
      ]
    },
    {
      "cell_type": "code",
      "execution_count": null,
      "metadata": {
        "id": "R4YDVgvi93Qp",
        "colab": {
          "base_uri": "https://localhost:8080/"
        },
        "outputId": "22aee6ce-3b53-4d4a-a9a7-856d6edc3992"
      },
      "outputs": [
        {
          "output_type": "execute_result",
          "data": {
            "text/plain": [
              "      sub_id     loc_id   latitude  longitude  month  day  year  \\\n",
              "0  S61429106  L10011987  43.075295   -74.3421     11   12  2019   \n",
              "1  S61625434  L10011987  43.075295   -74.3421     11   19  2019   \n",
              "2  S61839137  L10011987  43.075295   -74.3421     11   26  2019   \n",
              "3  S61985251  L10011987  43.075295   -74.3421     12    3  2019   \n",
              "4  S62233049  L10011987  43.075295   -74.3421     12   10  2019   \n",
              "\n",
              "  proj_period_id  valid  reviewed  ...  numfeeders_other  \\\n",
              "0       PFW_2020      1         0  ...               0.0   \n",
              "1       PFW_2020      1         0  ...               0.0   \n",
              "2       PFW_2020      1         0  ...               0.0   \n",
              "3       PFW_2020      1         0  ...               0.0   \n",
              "4       PFW_2020      1         0  ...               0.0   \n",
              "\n",
              "   count_area_size_sq_m_atleast  ruc_2013  uic_2013  pop_est  land_area  \\\n",
              "0                        375.01         4         5  53336.0    1283.26   \n",
              "1                        375.01         4         5  53336.0    1283.26   \n",
              "2                        375.01         4         5  53336.0    1283.26   \n",
              "3                        375.01         4         5  53336.0    1283.26   \n",
              "4                        375.01         4         5  53336.0    1283.26   \n",
              "\n",
              "  water_area tmin  tmax  pcpn  \n",
              "0      96.89   23    37  0.26  \n",
              "1      96.89   29    38  0.87  \n",
              "2      96.89   32    47  0.00  \n",
              "3      96.89   19    31  0.33  \n",
              "4      96.89   32    46  0.65  \n",
              "\n",
              "[5 rows x 123 columns]"
            ],
            "text/html": [
              "\n",
              "  <div id=\"df-5e549eaf-32a7-4eb1-83bd-29575878ecd3\">\n",
              "    <div class=\"colab-df-container\">\n",
              "      <div>\n",
              "<style scoped>\n",
              "    .dataframe tbody tr th:only-of-type {\n",
              "        vertical-align: middle;\n",
              "    }\n",
              "\n",
              "    .dataframe tbody tr th {\n",
              "        vertical-align: top;\n",
              "    }\n",
              "\n",
              "    .dataframe thead th {\n",
              "        text-align: right;\n",
              "    }\n",
              "</style>\n",
              "<table border=\"1\" class=\"dataframe\">\n",
              "  <thead>\n",
              "    <tr style=\"text-align: right;\">\n",
              "      <th></th>\n",
              "      <th>sub_id</th>\n",
              "      <th>loc_id</th>\n",
              "      <th>latitude</th>\n",
              "      <th>longitude</th>\n",
              "      <th>month</th>\n",
              "      <th>day</th>\n",
              "      <th>year</th>\n",
              "      <th>proj_period_id</th>\n",
              "      <th>valid</th>\n",
              "      <th>reviewed</th>\n",
              "      <th>...</th>\n",
              "      <th>numfeeders_other</th>\n",
              "      <th>count_area_size_sq_m_atleast</th>\n",
              "      <th>ruc_2013</th>\n",
              "      <th>uic_2013</th>\n",
              "      <th>pop_est</th>\n",
              "      <th>land_area</th>\n",
              "      <th>water_area</th>\n",
              "      <th>tmin</th>\n",
              "      <th>tmax</th>\n",
              "      <th>pcpn</th>\n",
              "    </tr>\n",
              "  </thead>\n",
              "  <tbody>\n",
              "    <tr>\n",
              "      <th>0</th>\n",
              "      <td>S61429106</td>\n",
              "      <td>L10011987</td>\n",
              "      <td>43.075295</td>\n",
              "      <td>-74.3421</td>\n",
              "      <td>11</td>\n",
              "      <td>12</td>\n",
              "      <td>2019</td>\n",
              "      <td>PFW_2020</td>\n",
              "      <td>1</td>\n",
              "      <td>0</td>\n",
              "      <td>...</td>\n",
              "      <td>0.0</td>\n",
              "      <td>375.01</td>\n",
              "      <td>4</td>\n",
              "      <td>5</td>\n",
              "      <td>53336.0</td>\n",
              "      <td>1283.26</td>\n",
              "      <td>96.89</td>\n",
              "      <td>23</td>\n",
              "      <td>37</td>\n",
              "      <td>0.26</td>\n",
              "    </tr>\n",
              "    <tr>\n",
              "      <th>1</th>\n",
              "      <td>S61625434</td>\n",
              "      <td>L10011987</td>\n",
              "      <td>43.075295</td>\n",
              "      <td>-74.3421</td>\n",
              "      <td>11</td>\n",
              "      <td>19</td>\n",
              "      <td>2019</td>\n",
              "      <td>PFW_2020</td>\n",
              "      <td>1</td>\n",
              "      <td>0</td>\n",
              "      <td>...</td>\n",
              "      <td>0.0</td>\n",
              "      <td>375.01</td>\n",
              "      <td>4</td>\n",
              "      <td>5</td>\n",
              "      <td>53336.0</td>\n",
              "      <td>1283.26</td>\n",
              "      <td>96.89</td>\n",
              "      <td>29</td>\n",
              "      <td>38</td>\n",
              "      <td>0.87</td>\n",
              "    </tr>\n",
              "    <tr>\n",
              "      <th>2</th>\n",
              "      <td>S61839137</td>\n",
              "      <td>L10011987</td>\n",
              "      <td>43.075295</td>\n",
              "      <td>-74.3421</td>\n",
              "      <td>11</td>\n",
              "      <td>26</td>\n",
              "      <td>2019</td>\n",
              "      <td>PFW_2020</td>\n",
              "      <td>1</td>\n",
              "      <td>0</td>\n",
              "      <td>...</td>\n",
              "      <td>0.0</td>\n",
              "      <td>375.01</td>\n",
              "      <td>4</td>\n",
              "      <td>5</td>\n",
              "      <td>53336.0</td>\n",
              "      <td>1283.26</td>\n",
              "      <td>96.89</td>\n",
              "      <td>32</td>\n",
              "      <td>47</td>\n",
              "      <td>0.00</td>\n",
              "    </tr>\n",
              "    <tr>\n",
              "      <th>3</th>\n",
              "      <td>S61985251</td>\n",
              "      <td>L10011987</td>\n",
              "      <td>43.075295</td>\n",
              "      <td>-74.3421</td>\n",
              "      <td>12</td>\n",
              "      <td>3</td>\n",
              "      <td>2019</td>\n",
              "      <td>PFW_2020</td>\n",
              "      <td>1</td>\n",
              "      <td>0</td>\n",
              "      <td>...</td>\n",
              "      <td>0.0</td>\n",
              "      <td>375.01</td>\n",
              "      <td>4</td>\n",
              "      <td>5</td>\n",
              "      <td>53336.0</td>\n",
              "      <td>1283.26</td>\n",
              "      <td>96.89</td>\n",
              "      <td>19</td>\n",
              "      <td>31</td>\n",
              "      <td>0.33</td>\n",
              "    </tr>\n",
              "    <tr>\n",
              "      <th>4</th>\n",
              "      <td>S62233049</td>\n",
              "      <td>L10011987</td>\n",
              "      <td>43.075295</td>\n",
              "      <td>-74.3421</td>\n",
              "      <td>12</td>\n",
              "      <td>10</td>\n",
              "      <td>2019</td>\n",
              "      <td>PFW_2020</td>\n",
              "      <td>1</td>\n",
              "      <td>0</td>\n",
              "      <td>...</td>\n",
              "      <td>0.0</td>\n",
              "      <td>375.01</td>\n",
              "      <td>4</td>\n",
              "      <td>5</td>\n",
              "      <td>53336.0</td>\n",
              "      <td>1283.26</td>\n",
              "      <td>96.89</td>\n",
              "      <td>32</td>\n",
              "      <td>46</td>\n",
              "      <td>0.65</td>\n",
              "    </tr>\n",
              "  </tbody>\n",
              "</table>\n",
              "<p>5 rows × 123 columns</p>\n",
              "</div>\n",
              "      <button class=\"colab-df-convert\" onclick=\"convertToInteractive('df-5e549eaf-32a7-4eb1-83bd-29575878ecd3')\"\n",
              "              title=\"Convert this dataframe to an interactive table.\"\n",
              "              style=\"display:none;\">\n",
              "        \n",
              "  <svg xmlns=\"http://www.w3.org/2000/svg\" height=\"24px\"viewBox=\"0 0 24 24\"\n",
              "       width=\"24px\">\n",
              "    <path d=\"M0 0h24v24H0V0z\" fill=\"none\"/>\n",
              "    <path d=\"M18.56 5.44l.94 2.06.94-2.06 2.06-.94-2.06-.94-.94-2.06-.94 2.06-2.06.94zm-11 1L8.5 8.5l.94-2.06 2.06-.94-2.06-.94L8.5 2.5l-.94 2.06-2.06.94zm10 10l.94 2.06.94-2.06 2.06-.94-2.06-.94-.94-2.06-.94 2.06-2.06.94z\"/><path d=\"M17.41 7.96l-1.37-1.37c-.4-.4-.92-.59-1.43-.59-.52 0-1.04.2-1.43.59L10.3 9.45l-7.72 7.72c-.78.78-.78 2.05 0 2.83L4 21.41c.39.39.9.59 1.41.59.51 0 1.02-.2 1.41-.59l7.78-7.78 2.81-2.81c.8-.78.8-2.07 0-2.86zM5.41 20L4 18.59l7.72-7.72 1.47 1.35L5.41 20z\"/>\n",
              "  </svg>\n",
              "      </button>\n",
              "      \n",
              "  <style>\n",
              "    .colab-df-container {\n",
              "      display:flex;\n",
              "      flex-wrap:wrap;\n",
              "      gap: 12px;\n",
              "    }\n",
              "\n",
              "    .colab-df-convert {\n",
              "      background-color: #E8F0FE;\n",
              "      border: none;\n",
              "      border-radius: 50%;\n",
              "      cursor: pointer;\n",
              "      display: none;\n",
              "      fill: #1967D2;\n",
              "      height: 32px;\n",
              "      padding: 0 0 0 0;\n",
              "      width: 32px;\n",
              "    }\n",
              "\n",
              "    .colab-df-convert:hover {\n",
              "      background-color: #E2EBFA;\n",
              "      box-shadow: 0px 1px 2px rgba(60, 64, 67, 0.3), 0px 1px 3px 1px rgba(60, 64, 67, 0.15);\n",
              "      fill: #174EA6;\n",
              "    }\n",
              "\n",
              "    [theme=dark] .colab-df-convert {\n",
              "      background-color: #3B4455;\n",
              "      fill: #D2E3FC;\n",
              "    }\n",
              "\n",
              "    [theme=dark] .colab-df-convert:hover {\n",
              "      background-color: #434B5C;\n",
              "      box-shadow: 0px 1px 3px 1px rgba(0, 0, 0, 0.15);\n",
              "      filter: drop-shadow(0px 1px 2px rgba(0, 0, 0, 0.3));\n",
              "      fill: #FFFFFF;\n",
              "    }\n",
              "  </style>\n",
              "\n",
              "      <script>\n",
              "        const buttonEl =\n",
              "          document.querySelector('#df-5e549eaf-32a7-4eb1-83bd-29575878ecd3 button.colab-df-convert');\n",
              "        buttonEl.style.display =\n",
              "          google.colab.kernel.accessAllowed ? 'block' : 'none';\n",
              "\n",
              "        async function convertToInteractive(key) {\n",
              "          const element = document.querySelector('#df-5e549eaf-32a7-4eb1-83bd-29575878ecd3');\n",
              "          const dataTable =\n",
              "            await google.colab.kernel.invokeFunction('convertToInteractive',\n",
              "                                                     [key], {});\n",
              "          if (!dataTable) return;\n",
              "\n",
              "          const docLinkHtml = 'Like what you see? Visit the ' +\n",
              "            '<a target=\"_blank\" href=https://colab.research.google.com/notebooks/data_table.ipynb>data table notebook</a>'\n",
              "            + ' to learn more about interactive tables.';\n",
              "          element.innerHTML = '';\n",
              "          dataTable['output_type'] = 'display_data';\n",
              "          await google.colab.output.renderOutput(dataTable, element);\n",
              "          const docLink = document.createElement('div');\n",
              "          docLink.innerHTML = docLinkHtml;\n",
              "          element.appendChild(docLink);\n",
              "        }\n",
              "      </script>\n",
              "    </div>\n",
              "  </div>\n",
              "  "
            ]
          },
          "metadata": {},
          "execution_count": 47
        }
      ],
      "source": [
        "birdy.head()"
      ]
    },
    {
      "cell_type": "code",
      "execution_count": null,
      "metadata": {
        "id": "HGX_x0By7Hw5"
      },
      "outputs": [],
      "source": [
        "birdy.to_csv(\"/content/drive/MyDrive/Modules/Module_30_Capstone_4_Final_project/aggregated_data.csv\")"
      ]
    }
  ],
  "metadata": {
    "accelerator": "GPU",
    "colab": {
      "collapsed_sections": [
        "_DtwbHFChjao",
        "8KFhPW50MmjJ",
        "1Xpk0molhodP",
        "lF2hInIhNEs1",
        "cvY_LMd75EV7",
        "CJe7ho4H5G6D",
        "wkgnJoYd5YBi"
      ],
      "machine_shape": "hm",
      "name": "03_map_weather_pop.ipynb",
      "provenance": [],
      "authorship_tag": "ABX9TyPtcH5/QSJidAT21mObskP1"
    },
    "kernelspec": {
      "display_name": "Python 3",
      "name": "python3"
    },
    "language_info": {
      "name": "python"
    }
  },
  "nbformat": 4,
  "nbformat_minor": 0
}